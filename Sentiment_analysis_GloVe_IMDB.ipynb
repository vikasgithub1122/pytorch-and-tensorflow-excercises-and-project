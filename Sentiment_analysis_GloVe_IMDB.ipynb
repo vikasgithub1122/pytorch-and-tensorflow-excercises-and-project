{
  "cells": [
    {
      "cell_type": "markdown",
      "source": [
        "# **Text Classification**"
      ],
      "metadata": {
        "id": "2d8nV_dEsZoM"
      }
    },
    {
      "cell_type": "markdown",
      "source": [
        "## Sentiment Analysis on Movie Reviews   😀-😢\n",
        "* Sentiment analysis, is a text classification technique that is used to determine the sentiment or emotional tone expressed in a piece of text, such as a review, comment, or social media post\n",
        "* Example:\n",
        "  \n",
        "  \"I gave this film my rare 10 stars\" -Positive(1)\n",
        "\n",
        "  \"It was such an awful movie experience\" -Negative(0)\n",
        "\n",
        "* Sentiment analysis typically involves machine learning models trained on labeled datasets, where each piece of text is associated with a sentiment label. These models use various NLP techniques, such as tokenization, word embeddings, and deep learning architectures like recurrent neural networks (RNNs) or transformer models like BERT, to analyze and classify sentiment in text.\n"
      ],
      "metadata": {
        "id": "tEhjxLZWY7mT"
      }
    },
    {
      "cell_type": "code",
      "source": [
        "from google.colab import drive\n",
        "drive.mount('/content/drive')"
      ],
      "metadata": {
        "colab": {
          "base_uri": "https://localhost:8080/"
        },
        "id": "_7-p1tetLB3z",
        "outputId": "37794d0a-1715-4733-8105-564a13f54d82"
      },
      "execution_count": null,
      "outputs": [
        {
          "output_type": "stream",
          "name": "stdout",
          "text": [
            "Drive already mounted at /content/drive; to attempt to forcibly remount, call drive.mount(\"/content/drive\", force_remount=True).\n"
          ]
        }
      ]
    },
    {
      "cell_type": "markdown",
      "metadata": {
        "id": "wWDP1HMaJtki"
      },
      "source": [
        "# **Incorporating GloVe Word Embedding**\n",
        "\n",
        "Global vectors for word representation"
      ]
    },
    {
      "cell_type": "code",
      "execution_count": null,
      "metadata": {
        "colab": {
          "base_uri": "https://localhost:8080/"
        },
        "id": "Kg_48ZRAvtC3",
        "outputId": "3c025795-818b-46e0-91a3-6c9ef5b57ddb"
      },
      "outputs": [
        {
          "output_type": "stream",
          "name": "stdout",
          "text": [
            "--2023-09-23 08:34:02--  http://nlp.stanford.edu/data/glove.6B.zip\n",
            "Resolving nlp.stanford.edu (nlp.stanford.edu)... 171.64.67.140\n",
            "Connecting to nlp.stanford.edu (nlp.stanford.edu)|171.64.67.140|:80... connected.\n",
            "HTTP request sent, awaiting response... 302 Found\n",
            "Location: https://nlp.stanford.edu/data/glove.6B.zip [following]\n",
            "--2023-09-23 08:34:02--  https://nlp.stanford.edu/data/glove.6B.zip\n",
            "Connecting to nlp.stanford.edu (nlp.stanford.edu)|171.64.67.140|:443... connected.\n",
            "HTTP request sent, awaiting response... 301 Moved Permanently\n",
            "Location: https://downloads.cs.stanford.edu/nlp/data/glove.6B.zip [following]\n",
            "--2023-09-23 08:34:02--  https://downloads.cs.stanford.edu/nlp/data/glove.6B.zip\n",
            "Resolving downloads.cs.stanford.edu (downloads.cs.stanford.edu)... 171.64.64.22\n",
            "Connecting to downloads.cs.stanford.edu (downloads.cs.stanford.edu)|171.64.64.22|:443... connected.\n",
            "HTTP request sent, awaiting response... 200 OK\n",
            "Length: 862182613 (822M) [application/zip]\n",
            "Saving to: ‘glove.6B.zip’\n",
            "\n",
            "glove.6B.zip        100%[===================>] 822.24M  5.01MB/s    in 2m 39s  \n",
            "\n",
            "2023-09-23 08:36:42 (5.16 MB/s) - ‘glove.6B.zip’ saved [862182613/862182613]\n",
            "\n"
          ]
        }
      ],
      "source": [
        "#using pretrained embedding\n",
        "!wget http://nlp.stanford.edu/data/glove.6B.zip\n",
        "!unzip -q glove.6B.zip"
      ]
    },
    {
      "cell_type": "code",
      "execution_count": null,
      "metadata": {
        "colab": {
          "base_uri": "https://localhost:8080/"
        },
        "id": "aNe_WYkrw1q8",
        "outputId": "4f9f8529-fcc1-4f27-88df-93ae50f7310e"
      },
      "outputs": [
        {
          "output_type": "stream",
          "name": "stdout",
          "text": [
            "Indexing word vectors-100d.\n",
            "Found 400000 word vectors.\n"
          ]
        }
      ],
      "source": [
        "import numpy as np\n",
        "print('Indexing word vectors-100d.')\n",
        "\n",
        "embeddings_index_100d = {}\n",
        "f = open('glove.6B.100d.txt', encoding='utf-8')\n",
        "for line in f:\n",
        "    values = line.split()\n",
        "    word = values[0]\n",
        "    coefs = np.asarray(values[1:], dtype='float32')\n",
        "    embeddings_index_100d[word] = coefs\n",
        "f.close()\n",
        "\n",
        "print('Found %s word vectors.' % len(embeddings_index_100d))"
      ]
    },
    {
      "cell_type": "code",
      "execution_count": null,
      "metadata": {
        "id": "SGSZAkn_xdeo",
        "colab": {
          "base_uri": "https://localhost:8080/"
        },
        "outputId": "bc436f4a-0547-4664-b57f-fc9b2a3d2948"
      },
      "outputs": [
        {
          "output_type": "stream",
          "name": "stdout",
          "text": [
            "Size of the embedding: (100,) \n",
            "\n"
          ]
        },
        {
          "output_type": "execute_result",
          "data": {
            "text/plain": [
              "array([ 0.38251  ,  0.14821  ,  0.60601  , -0.51533  ,  0.43992  ,\n",
              "        0.061053 , -0.62716  , -0.025385 ,  0.1643   , -0.22101  ,\n",
              "        0.14423  , -0.37213  , -0.21683  , -0.08895  ,  0.097904 ,\n",
              "        0.6561   ,  0.64455  ,  0.47698  ,  0.83849  ,  1.6486   ,\n",
              "        0.88922  , -0.1181   , -0.012465 , -0.52082  ,  0.77854  ,\n",
              "        0.48723  , -0.014991 , -0.14127  , -0.34747  , -0.29595  ,\n",
              "        0.1028   ,  0.57191  , -0.045594 ,  0.026443 ,  0.53816  ,\n",
              "        0.32257  ,  0.40788  , -0.043599 , -0.146    , -0.48346  ,\n",
              "        0.32036  ,  0.55086  , -0.76259  ,  0.43269  ,  0.61753  ,\n",
              "       -0.36503  , -0.60599  , -0.79615  ,  0.3929   , -0.23668  ,\n",
              "       -0.34719  , -0.61201  ,  0.54747  ,  0.94812  ,  0.20941  ,\n",
              "       -2.7771   , -0.6022   ,  0.8495   ,  1.2549   ,  0.017893 ,\n",
              "       -0.041901 ,  2.1147   , -0.026618 , -0.28104  ,  0.68124  ,\n",
              "       -0.14165  ,  0.99249  ,  0.49879  , -0.67538  ,  0.6417   ,\n",
              "        0.42303  , -0.27913  ,  0.063403 ,  0.68909  , -0.36183  ,\n",
              "        0.053709 , -0.16806  ,  0.19422  , -0.47073  , -0.14803  ,\n",
              "       -0.58986  , -0.2797   ,  0.16792  ,  0.10568  , -1.7601   ,\n",
              "        0.0088254, -0.83326  , -0.5836   , -0.37079  , -0.56591  ,\n",
              "        0.20699  ,  0.071315 ,  0.055586 , -0.29757  , -0.072659 ,\n",
              "       -0.25596  ,  0.42688  ,  0.058921 ,  0.091112 ,  0.47283  ],\n",
              "      dtype=float32)"
            ]
          },
          "metadata": {},
          "execution_count": 147
        }
      ],
      "source": [
        "#example for two random words\n",
        "word1_embedding=embeddings_index_100d['movie']\n",
        "print(\"Size of the embedding:\",word1_embedding.shape,\"\\n\")\n",
        "word1_embedding"
      ]
    },
    {
      "cell_type": "code",
      "source": [
        "#sample word embedding\n",
        "wordlist = [\"bad\",\"Excellent\", \"Terrible\", \"Outstanding\", \"Mediocre\", \"Superb\", \"Awful\", \"worst\",\"nice\"]\n",
        "\n",
        "word_embedding_array =[]\n",
        "\n",
        "for word in wordlist:\n",
        "    rep=  embeddings_index_100d[word.lower()]\n",
        "    word_embedding_array.append(rep)\n"
      ],
      "metadata": {
        "id": "fjTwyouiOocF"
      },
      "execution_count": null,
      "outputs": []
    },
    {
      "cell_type": "code",
      "source": [
        "import numpy as np\n",
        "from sklearn.manifold import TSNE\n",
        "import matplotlib.pyplot as plt\n",
        "\n",
        "# Initialize t-SNE (t-Distributed Stochastic Neighbor Embedding)\n",
        "tsne = TSNE(n_components=2, perplexity=2, random_state=42)\n",
        "\n",
        "# Convert the list of word embeddings to a NumPy array\n",
        "word_embedding = np.array(word_embedding_array)  # Replace 'word_embedding_list' with your list\n",
        "\n",
        "# Apply t-SNE to the entire embedding array\n",
        "tsne_results = tsne.fit_transform(word_embedding)\n",
        "\n",
        "# Create a scatter plot\n",
        "plt.figure(figsize=(10, 6))\n",
        "for i, word in enumerate(wordlist):\n",
        "    plt.scatter(tsne_results[i, 0], tsne_results[i, 1], label=word)\n",
        "\n",
        "plt.title(\"GloVe Word Embeddings in 2D (t-SNE)\")\n",
        "plt.xlabel(\"t-SNE Dimension 1\")\n",
        "plt.ylabel(\"t-SNE Dimension 2\")\n",
        "plt.legend()\n",
        "plt.show()\n"
      ],
      "metadata": {
        "colab": {
          "base_uri": "https://localhost:8080/",
          "height": 564
        },
        "id": "vHblbyCjTylB",
        "outputId": "c911a71c-6b8e-4413-eb5c-eb6993ce9cf9"
      },
      "execution_count": null,
      "outputs": [
        {
          "output_type": "display_data",
          "data": {
            "text/plain": [
              "<Figure size 1000x600 with 1 Axes>"
            ],
            "image/png": "[encoded data removed]"
          },
          "metadata": {}
        }
      ]
    },
    {
      "cell_type": "markdown",
      "metadata": {
        "id": "0c2Uk8tXD0h1"
      },
      "source": [
        "# **Cosine Similarity**"
      ]
    },
    {
      "cell_type": "markdown",
      "metadata": {
        "id": "gTHNzhU5DtKZ"
      },
      "source": [
        "Cosine Similarity(Angle) is a commonly used similariry score"
      ]
    },
    {
      "cell_type": "code",
      "execution_count": null,
      "metadata": {
        "id": "sNdeuIswEksO",
        "colab": {
          "base_uri": "https://localhost:8080/",
          "height": 490
        },
        "outputId": "4552ad8a-de32-4e79-96a6-739410218247"
      },
      "outputs": [
        {
          "output_type": "execute_result",
          "data": {
            "image/png": "[encoded data removed]",
            "text/plain": [
              "<IPython.core.display.Image object>"
            ]
          },
          "metadata": {
            "image/png": {
              "width": 700
            }
          },
          "execution_count": 101
        }
      ],
      "source": [
        "from IPython.display import Image\n",
        "Image(\"/content/drive/MyDrive/Semester 3/Transformers Tutorial/cosine_sim.png\", width =700)"
      ]
    },
    {
      "cell_type": "code",
      "execution_count": null,
      "metadata": {
        "id": "GLZi25LaybVh"
      },
      "outputs": [],
      "source": [
        "def cosine_similarity_calc(vec_1,vec_2):\n",
        "\tsim = np.dot(vec_1,vec_2)/(np.linalg.norm(vec_1)*np.linalg.norm(vec_2))\n",
        "\treturn sim"
      ]
    },
    {
      "cell_type": "code",
      "execution_count": null,
      "metadata": {
        "colab": {
          "base_uri": "https://localhost:8080/"
        },
        "id": "ytuWiG7Sz1F7",
        "outputId": "20609437-cc1d-4491-cc48-c9fd898b3be4"
      },
      "outputs": [
        {
          "output_type": "stream",
          "name": "stdout",
          "text": [
            "Cosine similarity between movie and film (100d): 0.90551215\n"
          ]
        }
      ],
      "source": [
        "#example cosine similarity\n",
        "\n",
        "word1= \"movie\"\n",
        "word2=\"film\"\n",
        "\n",
        "print(f\"Cosine similarity between {word1} and {word2} (100d):\",\n",
        "      cosine_similarity_calc(embeddings_index_100d[word1], embeddings_index_100d[word2]))"
      ]
    },
    {
      "cell_type": "code",
      "source": [
        "import numpy as np\n",
        "print('Indexing word vectors-300d.')\n",
        "\n",
        "embeddings_index_300d = {}\n",
        "f = open('glove.6B.300d.txt', encoding='utf-8')\n",
        "for line in f:\n",
        "    values = line.split()\n",
        "    word = values[0]\n",
        "    coefs = np.asarray(values[1:], dtype='float32')\n",
        "    embeddings_index_300d[word] = coefs\n",
        "f.close()\n",
        "\n",
        "print('Found %s word vectors.' % len(embeddings_index_300d))"
      ],
      "metadata": {
        "colab": {
          "base_uri": "https://localhost:8080/"
        },
        "id": "tDKwitOrnwm4",
        "outputId": "dc4dd8a2-6d79-4342-c5f4-df601e4850c7"
      },
      "execution_count": null,
      "outputs": [
        {
          "output_type": "stream",
          "name": "stdout",
          "text": [
            "Indexing word vectors-300d.\n",
            "Found 400000 word vectors.\n"
          ]
        }
      ]
    },
    {
      "cell_type": "code",
      "source": [
        "print(f\"Cosine similarity between {word1} and {word2} (300d):\",\n",
        "      cosine_similarity_calc(embeddings_index_300d[word1], embeddings_index_300d[word2]))"
      ],
      "metadata": {
        "colab": {
          "base_uri": "https://localhost:8080/"
        },
        "id": "uQlHIHp0s_h9",
        "outputId": "21b35fd6-3b84-473b-83e3-b27498f5ca72"
      },
      "execution_count": null,
      "outputs": [
        {
          "output_type": "stream",
          "name": "stdout",
          "text": [
            "Cosine similarity between movie and film (300d): 0.85887855\n"
          ]
        }
      ]
    },
    {
      "cell_type": "markdown",
      "source": [
        "# **Text Classification**\n",
        "\n",
        "\n",
        "* Example:\n",
        "  \n",
        "  \"I gave this film my rare 10 stars\" -Positive(1)\n",
        "\n",
        "  \"It was such an awful movie experience\" -Negative(0)\n"
      ],
      "metadata": {
        "id": "0WdyPNBJNepk"
      }
    },
    {
      "cell_type": "markdown",
      "metadata": {
        "id": "80VrK3O56oSv"
      },
      "source": [
        "# Data Preprocessing\n",
        "- Convert into lower case : Converting text to lower case as in, converting \"Hello\" to \"hello\" or \"HELLO\" to \"hello\".\n",
        "- Remove Punctuations: Removing punctuation from the text like \".?!\" and also the symbols like \"@#$\" .\n",
        "- Tokenise: Split the text sentence into tokens.\n",
        "- Stop word Removal: Remove irrelevant words using nltk stop words like \"is,the,a\" etc from the sentences as they don't provide much information to the query.\n",
        "\n",
        "\n"
      ]
    },
    {
      "cell_type": "code",
      "execution_count": null,
      "metadata": {
        "colab": {
          "base_uri": "https://localhost:8080/"
        },
        "id": "3oMt9xbY6P0p",
        "outputId": "5b83f271-897e-4af2-8414-e83fba7a3545"
      },
      "outputs": [
        {
          "output_type": "stream",
          "name": "stderr",
          "text": [
            "[nltk_data] Downloading package punkt to /root/nltk_data...\n",
            "[nltk_data]   Unzipping tokenizers/punkt.zip.\n",
            "[nltk_data] Downloading package stopwords to /root/nltk_data...\n",
            "[nltk_data]   Unzipping corpora/stopwords.zip.\n"
          ]
        }
      ],
      "source": [
        "#Installing and importing the basic packages required.\n",
        "import nltk\n",
        "import re\n",
        "nltk.download('punkt')\n",
        "nltk.download('stopwords')\n",
        "from nltk.corpus import stopwords\n",
        "from nltk.tokenize import word_tokenize\n",
        "import string\n",
        "\n",
        "stop_words = set(stopwords.words('english'))\n",
        "\n",
        "def preprocess(text):\n",
        "    # Convert text to lowercase\n",
        "    text = text.lower()\n",
        "    # Remove punctuation\n",
        "    text = ''.join([word for word in text if word not in string.punctuation])\n",
        "    # Tokenize the text\n",
        "    tokens = word_tokenize(text)\n",
        "    # Remove stopwords\n",
        "    tokens = [word for word in tokens if word not in stop_words]\n",
        "    return ' '.join(tokens)\n"
      ]
    },
    {
      "cell_type": "code",
      "source": [
        "# For data manipulation and analysis\n",
        "import pandas as pd\n",
        "data =  pd.read_csv('/content/drive/MyDrive/Semester 3/Transformers Tutorial/IMDB Dataset.csv')\n",
        "print(data)"
      ],
      "metadata": {
        "id": "_lZgeaggNh97",
        "colab": {
          "base_uri": "https://localhost:8080/"
        },
        "outputId": "a99935b4-3960-4725-c505-80ba528ca161"
      },
      "execution_count": null,
      "outputs": [
        {
          "output_type": "stream",
          "name": "stdout",
          "text": [
            "                                                  review sentiment\n",
            "0      One of the other reviewers has mentioned that ...  positive\n",
            "1      A wonderful little production. <br /><br />The...  positive\n",
            "2      I thought this was a wonderful way to spend ti...  positive\n",
            "3      Basically there's a family where a little boy ...  negative\n",
            "4      Petter Mattei's \"Love in the Time of Money\" is...  positive\n",
            "...                                                  ...       ...\n",
            "49995  I thought this movie did a down right good job...  positive\n",
            "49996  Bad plot, bad dialogue, bad acting, idiotic di...  negative\n",
            "49997  I am a Catholic taught in parochial elementary...  negative\n",
            "49998  I'm going to have to disagree with the previou...  negative\n",
            "49999  No one expects the Star Trek movies to be high...  negative\n",
            "\n",
            "[50000 rows x 2 columns]\n"
          ]
        }
      ]
    },
    {
      "cell_type": "code",
      "source": [
        "#  Creating labels based on the 'sentiment' column, where 'positive' is mapped to 1 and 'negative' to 0\n",
        "data['labels'] = [1 if sentiment == \"positive\" else 0 for sentiment in data['sentiment'].tolist()]\n",
        "data"
      ],
      "metadata": {
        "colab": {
          "base_uri": "https://localhost:8080/",
          "height": 424
        },
        "id": "etU81I9HvhXs",
        "outputId": "f5b24b1a-1042-4562-fcf9-79fd45e8ad76"
      },
      "execution_count": null,
      "outputs": [
        {
          "output_type": "execute_result",
          "data": {
            "text/plain": [
              "                                                  review sentiment  labels\n",
              "0      One of the other reviewers has mentioned that ...  positive       1\n",
              "1      A wonderful little production. <br /><br />The...  positive       1\n",
              "2      I thought this was a wonderful way to spend ti...  positive       1\n",
              "3      Basically there's a family where a little boy ...  negative       0\n",
              "4      Petter Mattei's \"Love in the Time of Money\" is...  positive       1\n",
              "...                                                  ...       ...     ...\n",
              "49995  I thought this movie did a down right good job...  positive       1\n",
              "49996  Bad plot, bad dialogue, bad acting, idiotic di...  negative       0\n",
              "49997  I am a Catholic taught in parochial elementary...  negative       0\n",
              "49998  I'm going to have to disagree with the previou...  negative       0\n",
              "49999  No one expects the Star Trek movies to be high...  negative       0\n",
              "\n",
              "[50000 rows x 3 columns]"
            ],
            "text/html": [
              "\n",
              "  <div id=\"df-bc73c15e-5cd9-496a-b0c8-d0498af3caa2\" class=\"colab-df-container\">\n",
              "    <div>\n",
              "<style scoped>\n",
              "    .dataframe tbody tr th:only-of-type {\n",
              "        vertical-align: middle;\n",
              "    }\n",
              "\n",
              "    .dataframe tbody tr th {\n",
              "        vertical-align: top;\n",
              "    }\n",
              "\n",
              "    .dataframe thead th {\n",
              "        text-align: right;\n",
              "    }\n",
              "</style>\n",
              "<table border=\"1\" class=\"dataframe\">\n",
              "  <thead>\n",
              "    <tr style=\"text-align: right;\">\n",
              "      <th></th>\n",
              "      <th>review</th>\n",
              "      <th>sentiment</th>\n",
              "      <th>labels</th>\n",
              "    </tr>\n",
              "  </thead>\n",
              "  <tbody>\n",
              "    <tr>\n",
              "      <th>0</th>\n",
              "      <td>One of the other reviewers has mentioned that ...</td>\n",
              "      <td>positive</td>\n",
              "      <td>1</td>\n",
              "    </tr>\n",
              "    <tr>\n",
              "      <th>1</th>\n",
              "      <td>A wonderful little production. &lt;br /&gt;&lt;br /&gt;The...</td>\n",
              "      <td>positive</td>\n",
              "      <td>1</td>\n",
              "    </tr>\n",
              "    <tr>\n",
              "      <th>2</th>\n",
              "      <td>I thought this was a wonderful way to spend ti...</td>\n",
              "      <td>positive</td>\n",
              "      <td>1</td>\n",
              "    </tr>\n",
              "    <tr>\n",
              "      <th>3</th>\n",
              "      <td>Basically there's a family where a little boy ...</td>\n",
              "      <td>negative</td>\n",
              "      <td>0</td>\n",
              "    </tr>\n",
              "    <tr>\n",
              "      <th>4</th>\n",
              "      <td>Petter Mattei's \"Love in the Time of Money\" is...</td>\n",
              "      <td>positive</td>\n",
              "      <td>1</td>\n",
              "    </tr>\n",
              "    <tr>\n",
              "      <th>...</th>\n",
              "      <td>...</td>\n",
              "      <td>...</td>\n",
              "      <td>...</td>\n",
              "    </tr>\n",
              "    <tr>\n",
              "      <th>49995</th>\n",
              "      <td>I thought this movie did a down right good job...</td>\n",
              "      <td>positive</td>\n",
              "      <td>1</td>\n",
              "    </tr>\n",
              "    <tr>\n",
              "      <th>49996</th>\n",
              "      <td>Bad plot, bad dialogue, bad acting, idiotic di...</td>\n",
              "      <td>negative</td>\n",
              "      <td>0</td>\n",
              "    </tr>\n",
              "    <tr>\n",
              "      <th>49997</th>\n",
              "      <td>I am a Catholic taught in parochial elementary...</td>\n",
              "      <td>negative</td>\n",
              "      <td>0</td>\n",
              "    </tr>\n",
              "    <tr>\n",
              "      <th>49998</th>\n",
              "      <td>I'm going to have to disagree with the previou...</td>\n",
              "      <td>negative</td>\n",
              "      <td>0</td>\n",
              "    </tr>\n",
              "    <tr>\n",
              "      <th>49999</th>\n",
              "      <td>No one expects the Star Trek movies to be high...</td>\n",
              "      <td>negative</td>\n",
              "      <td>0</td>\n",
              "    </tr>\n",
              "  </tbody>\n",
              "</table>\n",
              "<p>50000 rows × 3 columns</p>\n",
              "</div>\n",
              "    <div class=\"colab-df-buttons\">\n",
              "\n",
              "  <div class=\"colab-df-container\">\n",
              "    <button class=\"colab-df-convert\" onclick=\"convertToInteractive('df-bc73c15e-5cd9-496a-b0c8-d0498af3caa2')\"\n",
              "            title=\"Convert this dataframe to an interactive table.\"\n",
              "            style=\"display:none;\">\n",
              "\n",
              "  <svg xmlns=\"http://www.w3.org/2000/svg\" height=\"24px\" viewBox=\"0 -960 960 960\">\n",
              "    <path d=\"M120-120v-720h720v720H120Zm60-500h600v-160H180v160Zm220 220h160v-160H400v160Zm0 220h160v-160H400v160ZM180-400h160v-160H180v160Zm440 0h160v-160H620v160ZM180-180h160v-160H180v160Zm440 0h160v-160H620v160Z\"/>\n",
              "  </svg>\n",
              "    </button>\n",
              "\n",
              "  <style>\n",
              "    .colab-df-container {\n",
              "      display:flex;\n",
              "      gap: 12px;\n",
              "    }\n",
              "\n",
              "    .colab-df-convert {\n",
              "      background-color: #E8F0FE;\n",
              "      border: none;\n",
              "      border-radius: 50%;\n",
              "      cursor: pointer;\n",
              "      display: none;\n",
              "      fill: #1967D2;\n",
              "      height: 32px;\n",
              "      padding: 0 0 0 0;\n",
              "      width: 32px;\n",
              "    }\n",
              "\n",
              "    .colab-df-convert:hover {\n",
              "      background-color: #E2EBFA;\n",
              "      box-shadow: 0px 1px 2px rgba(60, 64, 67, 0.3), 0px 1px 3px 1px rgba(60, 64, 67, 0.15);\n",
              "      fill: #174EA6;\n",
              "    }\n",
              "\n",
              "    .colab-df-buttons div {\n",
              "      margin-bottom: 4px;\n",
              "    }\n",
              "\n",
              "    [theme=dark] .colab-df-convert {\n",
              "      background-color: #3B4455;\n",
              "      fill: #D2E3FC;\n",
              "    }\n",
              "\n",
              "    [theme=dark] .colab-df-convert:hover {\n",
              "      background-color: #434B5C;\n",
              "      box-shadow: 0px 1px 3px 1px rgba(0, 0, 0, 0.15);\n",
              "      filter: drop-shadow(0px 1px 2px rgba(0, 0, 0, 0.3));\n",
              "      fill: #FFFFFF;\n",
              "    }\n",
              "  </style>\n",
              "\n",
              "    <script>\n",
              "      const buttonEl =\n",
              "        document.querySelector('#df-bc73c15e-5cd9-496a-b0c8-d0498af3caa2 button.colab-df-convert');\n",
              "      buttonEl.style.display =\n",
              "        google.colab.kernel.accessAllowed ? 'block' : 'none';\n",
              "\n",
              "      async function convertToInteractive(key) {\n",
              "        const element = document.querySelector('#df-bc73c15e-5cd9-496a-b0c8-d0498af3caa2');\n",
              "        const dataTable =\n",
              "          await google.colab.kernel.invokeFunction('convertToInteractive',\n",
              "                                                    [key], {});\n",
              "        if (!dataTable) return;\n",
              "\n",
              "        const docLinkHtml = 'Like what you see? Visit the ' +\n",
              "          '<a target=\"_blank\" href=https://colab.research.google.com/notebooks/data_table.ipynb>data table notebook</a>'\n",
              "          + ' to learn more about interactive tables.';\n",
              "        element.innerHTML = '';\n",
              "        dataTable['output_type'] = 'display_data';\n",
              "        await google.colab.output.renderOutput(dataTable, element);\n",
              "        const docLink = document.createElement('div');\n",
              "        docLink.innerHTML = docLinkHtml;\n",
              "        element.appendChild(docLink);\n",
              "      }\n",
              "    </script>\n",
              "  </div>\n",
              "\n",
              "\n",
              "<div id=\"df-62d79220-99d9-4fa3-8e1b-c7f263ff11dc\">\n",
              "  <button class=\"colab-df-quickchart\" onclick=\"quickchart('df-62d79220-99d9-4fa3-8e1b-c7f263ff11dc')\"\n",
              "            title=\"Suggest charts.\"\n",
              "            style=\"display:none;\">\n",
              "\n",
              "<svg xmlns=\"http://www.w3.org/2000/svg\" height=\"24px\"viewBox=\"0 0 24 24\"\n",
              "     width=\"24px\">\n",
              "    <g>\n",
              "        <path d=\"M19 3H5c-1.1 0-2 .9-2 2v14c0 1.1.9 2 2 2h14c1.1 0 2-.9 2-2V5c0-1.1-.9-2-2-2zM9 17H7v-7h2v7zm4 0h-2V7h2v10zm4 0h-2v-4h2v4z\"/>\n",
              "    </g>\n",
              "</svg>\n",
              "  </button>\n",
              "\n",
              "<style>\n",
              "  .colab-df-quickchart {\n",
              "      --bg-color: #E8F0FE;\n",
              "      --fill-color: #1967D2;\n",
              "      --hover-bg-color: #E2EBFA;\n",
              "      --hover-fill-color: #174EA6;\n",
              "      --disabled-fill-color: #AAA;\n",
              "      --disabled-bg-color: #DDD;\n",
              "  }\n",
              "\n",
              "  [theme=dark] .colab-df-quickchart {\n",
              "      --bg-color: #3B4455;\n",
              "      --fill-color: #D2E3FC;\n",
              "      --hover-bg-color: #434B5C;\n",
              "      --hover-fill-color: #FFFFFF;\n",
              "      --disabled-bg-color: #3B4455;\n",
              "      --disabled-fill-color: #666;\n",
              "  }\n",
              "\n",
              "  .colab-df-quickchart {\n",
              "    background-color: var(--bg-color);\n",
              "    border: none;\n",
              "    border-radius: 50%;\n",
              "    cursor: pointer;\n",
              "    display: none;\n",
              "    fill: var(--fill-color);\n",
              "    height: 32px;\n",
              "    padding: 0;\n",
              "    width: 32px;\n",
              "  }\n",
              "\n",
              "  .colab-df-quickchart:hover {\n",
              "    background-color: var(--hover-bg-color);\n",
              "    box-shadow: 0 1px 2px rgba(60, 64, 67, 0.3), 0 1px 3px 1px rgba(60, 64, 67, 0.15);\n",
              "    fill: var(--button-hover-fill-color);\n",
              "  }\n",
              "\n",
              "  .colab-df-quickchart-complete:disabled,\n",
              "  .colab-df-quickchart-complete:disabled:hover {\n",
              "    background-color: var(--disabled-bg-color);\n",
              "    fill: var(--disabled-fill-color);\n",
              "    box-shadow: none;\n",
              "  }\n",
              "\n",
              "  .colab-df-spinner {\n",
              "    border: 2px solid var(--fill-color);\n",
              "    border-color: transparent;\n",
              "    border-bottom-color: var(--fill-color);\n",
              "    animation:\n",
              "      spin 1s steps(1) infinite;\n",
              "  }\n",
              "\n",
              "  @keyframes spin {\n",
              "    0% {\n",
              "      border-color: transparent;\n",
              "      border-bottom-color: var(--fill-color);\n",
              "      border-left-color: var(--fill-color);\n",
              "    }\n",
              "    20% {\n",
              "      border-color: transparent;\n",
              "      border-left-color: var(--fill-color);\n",
              "      border-top-color: var(--fill-color);\n",
              "    }\n",
              "    30% {\n",
              "      border-color: transparent;\n",
              "      border-left-color: var(--fill-color);\n",
              "      border-top-color: var(--fill-color);\n",
              "      border-right-color: var(--fill-color);\n",
              "    }\n",
              "    40% {\n",
              "      border-color: transparent;\n",
              "      border-right-color: var(--fill-color);\n",
              "      border-top-color: var(--fill-color);\n",
              "    }\n",
              "    60% {\n",
              "      border-color: transparent;\n",
              "      border-right-color: var(--fill-color);\n",
              "    }\n",
              "    80% {\n",
              "      border-color: transparent;\n",
              "      border-right-color: var(--fill-color);\n",
              "      border-bottom-color: var(--fill-color);\n",
              "    }\n",
              "    90% {\n",
              "      border-color: transparent;\n",
              "      border-bottom-color: var(--fill-color);\n",
              "    }\n",
              "  }\n",
              "</style>\n",
              "\n",
              "  <script>\n",
              "    async function quickchart(key) {\n",
              "      const quickchartButtonEl =\n",
              "        document.querySelector('#' + key + ' button');\n",
              "      quickchartButtonEl.disabled = true;  // To prevent multiple clicks.\n",
              "      quickchartButtonEl.classList.add('colab-df-spinner');\n",
              "      try {\n",
              "        const charts = await google.colab.kernel.invokeFunction(\n",
              "            'suggestCharts', [key], {});\n",
              "      } catch (error) {\n",
              "        console.error('Error during call to suggestCharts:', error);\n",
              "      }\n",
              "      quickchartButtonEl.classList.remove('colab-df-spinner');\n",
              "      quickchartButtonEl.classList.add('colab-df-quickchart-complete');\n",
              "    }\n",
              "    (() => {\n",
              "      let quickchartButtonEl =\n",
              "        document.querySelector('#df-62d79220-99d9-4fa3-8e1b-c7f263ff11dc button');\n",
              "      quickchartButtonEl.style.display =\n",
              "        google.colab.kernel.accessAllowed ? 'block' : 'none';\n",
              "    })();\n",
              "  </script>\n",
              "</div>\n",
              "    </div>\n",
              "  </div>\n"
            ]
          },
          "metadata": {},
          "execution_count": 153
        }
      ]
    },
    {
      "cell_type": "code",
      "source": [
        "# For data splitting\n",
        "from sklearn.model_selection import train_test_split\n",
        "X_train, X_test, y_train, y_test = train_test_split(data['review'], data['labels'], test_size=0.2, random_state=42)"
      ],
      "metadata": {
        "id": "n7ulu4JovQiz"
      },
      "execution_count": null,
      "outputs": []
    },
    {
      "cell_type": "code",
      "source": [
        "# Apply vectorization to both training and testing data\n",
        "X_train = X_train.apply(preprocess)\n",
        "X_test = X_test.apply(preprocess)"
      ],
      "metadata": {
        "id": "2Ddw7AzKNmKk"
      },
      "execution_count": null,
      "outputs": []
    },
    {
      "cell_type": "code",
      "execution_count": null,
      "metadata": {
        "id": "oW3ndEoO6nru"
      },
      "outputs": [],
      "source": [
        "#function to find unique words\n",
        "import re\n",
        "def find_unique_words(preprocessed):\n",
        "  word_list=[]\n",
        "  words = re.findall(r'\\w+', preprocessed)\n",
        "  for word in words:\n",
        "    if word not in word_list:\n",
        "        word_list.append(word)\n",
        "  return word_list"
      ]
    },
    {
      "cell_type": "code",
      "source": [
        "#function for embedding the review texts\n",
        "embedding_dim = 100\n",
        "def paragraph_embedding(text):\n",
        "  wordlist_doc = find_unique_words(text)\n",
        "  num_tokens = len(wordlist_doc)\n",
        "  embedding_matrix=np.zeros((num_tokens, embedding_dim))\n",
        "  for i in range(0,len(wordlist_doc)):\n",
        "    try:\n",
        "      embedding_matrix[i]=embeddings_index_100d[wordlist_doc[i]]\n",
        "    except:\n",
        "      pass\n",
        "  words_vecs = np.array(embedding_matrix)\n",
        "  return words_vecs.mean(axis=0)"
      ],
      "metadata": {
        "id": "-MeJpquiNx7n"
      },
      "execution_count": null,
      "outputs": []
    },
    {
      "cell_type": "code",
      "source": [
        "X_train = np.array([paragraph_embedding(review) for review in X_train])\n",
        "X_test = np.array([paragraph_embedding(review) for review in X_test])"
      ],
      "metadata": {
        "id": "L2M1IgMhOVi2"
      },
      "execution_count": null,
      "outputs": []
    },
    {
      "cell_type": "code",
      "source": [
        "X_train[0]"
      ],
      "metadata": {
        "colab": {
          "base_uri": "https://localhost:8080/"
        },
        "id": "iqSUcrKPPGgT",
        "outputId": "f98ed743-d045-40a0-8103-7d71a88306ac"
      },
      "execution_count": null,
      "outputs": [
        {
          "output_type": "execute_result",
          "data": {
            "text/plain": [
              "array([-2.05101476e-02,  1.75325713e-01,  2.06264738e-01, -1.75695004e-01,\n",
              "       -3.37341379e-02,  1.86870000e-01, -1.77933023e-01,  4.57873296e-02,\n",
              "        2.36135217e-02, -5.67418160e-02,  7.35544228e-02,  1.31376125e-02,\n",
              "        1.44131909e-01, -2.89035801e-02,  8.72284355e-02, -1.14462267e-01,\n",
              "       -2.13784896e-02,  1.30350158e-01, -1.73860846e-01,  3.04263378e-01,\n",
              "        1.57468839e-01, -8.84160567e-03,  4.58512758e-02, -2.14730165e-01,\n",
              "        1.01160957e-01, -4.39784268e-03, -8.39585521e-02, -1.95899903e-01,\n",
              "        1.04347366e-01, -1.06701521e-01, -6.87273328e-02,  2.86400632e-01,\n",
              "       -3.82397106e-02, -1.49061005e-02,  3.20085979e-02,  1.31208073e-01,\n",
              "       -6.76901539e-02,  2.77691324e-02, -4.12397283e-02, -1.23231126e-01,\n",
              "       -1.16608046e-01, -6.65718580e-04,  1.54058121e-02, -1.24792609e-01,\n",
              "       -8.37769036e-02, -4.95022940e-02,  6.37446788e-02, -1.15331751e-01,\n",
              "        1.56845024e-02, -4.83691444e-01,  3.08600457e-02, -9.45727928e-02,\n",
              "        1.29287669e-01,  6.22523839e-01, -9.43689003e-04, -1.39142569e+00,\n",
              "        3.49992051e-03, -2.71697961e-02,  7.25034510e-01,  1.95998262e-01,\n",
              "       -2.21128673e-02,  5.88578649e-01, -2.01621122e-01, -2.60943123e-02,\n",
              "        4.27798111e-01, -3.03992622e-02,  3.64407387e-01,  1.55977248e-01,\n",
              "       -3.08537461e-03, -8.71297488e-02,  3.25600002e-02, -1.16367327e-01,\n",
              "        1.36660353e-02, -1.26031151e-01,  1.43812477e-01,  1.12178334e-01,\n",
              "       -9.63949273e-02, -4.61808561e-02, -2.84308958e-01, -7.57111167e-02,\n",
              "        2.07279642e-01, -4.67043564e-02, -1.74981072e-01, -2.88521085e-03,\n",
              "       -9.61736430e-01, -1.53582152e-01, -7.07504916e-02, -6.22469325e-02,\n",
              "       -2.21341123e-01, -1.69587398e-01, -4.57487244e-02,  6.10767894e-04,\n",
              "       -2.54906309e-02, -5.84340611e-02, -2.24085307e-01, -2.52627751e-02,\n",
              "       -1.70726509e-01, -1.85521613e-01,  1.55751572e-01,  2.21247138e-01])"
            ]
          },
          "metadata": {},
          "execution_count": 119
        }
      ]
    },
    {
      "cell_type": "code",
      "source": [
        "#classification using Logistic Regression, provided by sklearn\n",
        "\n",
        "from sklearn.linear_model import LogisticRegression\n",
        "clf = LogisticRegression()\n",
        "clf.fit(X_train, y_train)"
      ],
      "metadata": {
        "colab": {
          "base_uri": "https://localhost:8080/",
          "height": 75
        },
        "id": "NyDmdZj_Nxcl",
        "outputId": "0e0f93c6-1c56-41c3-8338-7850457dddf4"
      },
      "execution_count": null,
      "outputs": [
        {
          "output_type": "execute_result",
          "data": {
            "text/plain": [
              "LogisticRegression()"
            ],
            "text/html": [
              "<style>#sk-container-id-2 {color: black;background-color: white;}#sk-container-id-2 pre{padding: 0;}#sk-container-id-2 div.sk-toggleable {background-color: white;}#sk-container-id-2 label.sk-toggleable__label {cursor: pointer;display: block;width: 100%;margin-bottom: 0;padding: 0.3em;box-sizing: border-box;text-align: center;}#sk-container-id-2 label.sk-toggleable__label-arrow:before {content: \"▸\";float: left;margin-right: 0.25em;color: #696969;}#sk-container-id-2 label.sk-toggleable__label-arrow:hover:before {color: black;}#sk-container-id-2 div.sk-estimator:hover label.sk-toggleable__label-arrow:before {color: black;}#sk-container-id-2 div.sk-toggleable__content {max-height: 0;max-width: 0;overflow: hidden;text-align: left;background-color: #f0f8ff;}#sk-container-id-2 div.sk-toggleable__content pre {margin: 0.2em;color: black;border-radius: 0.25em;background-color: #f0f8ff;}#sk-container-id-2 input.sk-toggleable__control:checked~div.sk-toggleable__content {max-height: 200px;max-width: 100%;overflow: auto;}#sk-container-id-2 input.sk-toggleable__control:checked~label.sk-toggleable__label-arrow:before {content: \"▾\";}#sk-container-id-2 div.sk-estimator input.sk-toggleable__control:checked~label.sk-toggleable__label {background-color: #d4ebff;}#sk-container-id-2 div.sk-label input.sk-toggleable__control:checked~label.sk-toggleable__label {background-color: #d4ebff;}#sk-container-id-2 input.sk-hidden--visually {border: 0;clip: rect(1px 1px 1px 1px);clip: rect(1px, 1px, 1px, 1px);height: 1px;margin: -1px;overflow: hidden;padding: 0;position: absolute;width: 1px;}#sk-container-id-2 div.sk-estimator {font-family: monospace;background-color: #f0f8ff;border: 1px dotted black;border-radius: 0.25em;box-sizing: border-box;margin-bottom: 0.5em;}#sk-container-id-2 div.sk-estimator:hover {background-color: #d4ebff;}#sk-container-id-2 div.sk-parallel-item::after {content: \"\";width: 100%;border-bottom: 1px solid gray;flex-grow: 1;}#sk-container-id-2 div.sk-label:hover label.sk-toggleable__label {background-color: #d4ebff;}#sk-container-id-2 div.sk-serial::before {content: \"\";position: absolute;border-left: 1px solid gray;box-sizing: border-box;top: 0;bottom: 0;left: 50%;z-index: 0;}#sk-container-id-2 div.sk-serial {display: flex;flex-direction: column;align-items: center;background-color: white;padding-right: 0.2em;padding-left: 0.2em;position: relative;}#sk-container-id-2 div.sk-item {position: relative;z-index: 1;}#sk-container-id-2 div.sk-parallel {display: flex;align-items: stretch;justify-content: center;background-color: white;position: relative;}#sk-container-id-2 div.sk-item::before, #sk-container-id-2 div.sk-parallel-item::before {content: \"\";position: absolute;border-left: 1px solid gray;box-sizing: border-box;top: 0;bottom: 0;left: 50%;z-index: -1;}#sk-container-id-2 div.sk-parallel-item {display: flex;flex-direction: column;z-index: 1;position: relative;background-color: white;}#sk-container-id-2 div.sk-parallel-item:first-child::after {align-self: flex-end;width: 50%;}#sk-container-id-2 div.sk-parallel-item:last-child::after {align-self: flex-start;width: 50%;}#sk-container-id-2 div.sk-parallel-item:only-child::after {width: 0;}#sk-container-id-2 div.sk-dashed-wrapped {border: 1px dashed gray;margin: 0 0.4em 0.5em 0.4em;box-sizing: border-box;padding-bottom: 0.4em;background-color: white;}#sk-container-id-2 div.sk-label label {font-family: monospace;font-weight: bold;display: inline-block;line-height: 1.2em;}#sk-container-id-2 div.sk-label-container {text-align: center;}#sk-container-id-2 div.sk-container {/* jupyter's `normalize.less` sets `[hidden] { display: none; }` but bootstrap.min.css set `[hidden] { display: none !important; }` so we also need the `!important` here to be able to override the default hidden behavior on the sphinx rendered scikit-learn.org. See: https://github.com/scikit-learn/scikit-learn/issues/21755 */display: inline-block !important;position: relative;}#sk-container-id-2 div.sk-text-repr-fallback {display: none;}</style><div id=\"sk-container-id-2\" class=\"sk-top-container\"><div class=\"sk-text-repr-fallback\"><pre>LogisticRegression()</pre><b>In a Jupyter environment, please rerun this cell to show the HTML representation or trust the notebook. <br />On GitHub, the HTML representation is unable to render, please try loading this page with nbviewer.org.</b></div><div class=\"sk-container\" hidden><div class=\"sk-item\"><div class=\"sk-estimator sk-toggleable\"><input class=\"sk-toggleable__control sk-hidden--visually\" id=\"sk-estimator-id-2\" type=\"checkbox\" checked><label for=\"sk-estimator-id-2\" class=\"sk-toggleable__label sk-toggleable__label-arrow\">LogisticRegression</label><div class=\"sk-toggleable__content\"><pre>LogisticRegression()</pre></div></div></div></div></div>"
            ]
          },
          "metadata": {},
          "execution_count": 120
        }
      ]
    },
    {
      "cell_type": "code",
      "source": [
        "from sklearn.metrics import accuracy_score, precision_score, recall_score, f1_score\n",
        "y_pred = clf.predict(X_test)\n",
        "print('Accuracy:', accuracy_score(y_test, y_pred))\n",
        "print('Precision:', precision_score(y_test, y_pred, pos_label=1))\n",
        "print('Recall:', recall_score(y_test, y_pred, pos_label=1))\n",
        "print('F1 score:', f1_score(y_test, y_pred, pos_label=1))"
      ],
      "metadata": {
        "colab": {
          "base_uri": "https://localhost:8080/"
        },
        "id": "NydoxdmBOlEU",
        "outputId": "e44e5996-6004-40d4-f57e-9a1ea2f3c841"
      },
      "execution_count": null,
      "outputs": [
        {
          "output_type": "stream",
          "name": "stdout",
          "text": [
            "Accuracy: 0.7999\n",
            "Precision: 0.8048976314733038\n",
            "Recall: 0.7957928160349276\n",
            "F1 score: 0.8003193294082427\n"
          ]
        }
      ]
    },
    {
      "cell_type": "code",
      "source": [
        "text = \"Finally, an indie film that actually delivers some great scares!\"\n",
        "pre_text = preprocess(text)\n",
        "embed = paragraph_embedding(pre_text)\n",
        "clf.predict(embed.reshape(1, -1))\n"
      ],
      "metadata": {
        "colab": {
          "base_uri": "https://localhost:8080/"
        },
        "id": "fw_B-N4OxBh4",
        "outputId": "0a6fc4bb-b19e-46a4-a718-ff7f255eff00"
      },
      "execution_count": null,
      "outputs": [
        {
          "output_type": "execute_result",
          "data": {
            "text/plain": [
              "array([1])"
            ]
          },
          "metadata": {},
          "execution_count": 166
        }
      ]
    },
    {
      "cell_type": "markdown",
      "metadata": {
        "id": "1P9m2dtpFEQL"
      },
      "source": [
        "\n",
        "**References**\n",
        "\n",
        "\n",
        "- https://nlp.stanford.edu/projects/glove/\n",
        "- https://colab.research.google.com/github/keras-team/keras-io/blob/master/examples/nlp/ipynb/pretrained_word_embeddings.ipynb#scrollTo=wa65QiH-uINO\n",
        "-https://www.kaggle.com/code/jannesklaas/17-nlp-and-word-embeddings\n",
        "- https://towardsdatascience.com/a-guide-to-word-embeddings-8a23817ab60f"
      ]
    }
  ],
  "metadata": {
    "colab": {
      "provenance": []
    },
    "kernelspec": {
      "display_name": "Python 3",
      "name": "python3"
    },
    "language_info": {
      "name": "python"
    }
  },
  "nbformat": 4,
  "nbformat_minor": 0
}