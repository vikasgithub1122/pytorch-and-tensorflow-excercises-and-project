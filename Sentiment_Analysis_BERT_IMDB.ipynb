{
  "cells": [
    {
      "cell_type": "markdown",
      "metadata": {
        "id": "hbW5aHiCYZ4n"
      },
      "source": [
        "# **Text Classification on BERT**"
      ]
    },
    {
      "cell_type": "markdown",
      "metadata": {
        "id": "GfpVD8mwM0Fs"
      },
      "source": [
        "## Bidirectional Encoder Representations from Transformers (BERT)\n",
        "\n",
        "BERT, short for Bidirectional Encoder Representations from Transformers, is a cutting-edge natural language processing (NLP) model that has revolutionized the field of machine learning. Developed by Google, BERT utilizes a deep transformer architecture to u**nderstand the contextual nuances of words in sentences**, enabling it to grasp the meaning of text comprehensively. Its pre-trained nature on vast text corpora, coupled with fine-tuning capabilities, makes it a versatile and powerful tool for a wide range of NLP tasks, from sentiment analysis to question answering, and has significantly advanced the state-of-the-art in language understanding and generation tasks.\n",
        "\n",
        "\n"
      ]
    },
    {
      "cell_type": "code",
      "execution_count": null,
      "metadata": {
        "id": "pT0noailM2I6"
      },
      "outputs": [],
      "source": [
        "from IPython.display import Image\n",
        "Image(\"/content/drive/MyDrive/Semester 3/Transformers Tutorial/new_BERT_Overall.jpg\", width=1200)"
      ]
    },
    {
      "cell_type": "markdown",
      "source": [],
      "metadata": {
        "id": "dKCLWl4eN22Y"
      }
    },
    {
      "cell_type": "markdown",
      "source": [
        "\n",
        "## BERT for Text Classification\n",
        "BERT, a multi-layer bidirectional transformer encoder, stands out for its deep text comprehension capabilities, **considering the full context of words in sentences**. Its pre-trained nature involves training on vast text data, making it proficient in language understanding. Fine-tuning for specific NLP tasks further enhances its accuracy. We concentrate on BERT base, offering substantial context comprehension with reduced computational requirements, making it an excellent choice for text classification tasks."
      ],
      "metadata": {
        "id": "sXBXBy6QgK99"
      }
    },
    {
      "cell_type": "code",
      "execution_count": null,
      "metadata": {
        "colab": {
          "base_uri": "https://localhost:8080/"
        },
        "id": "9qYoLzFsNI2W",
        "outputId": "26638ef4-6521-426b-9f57-3b6e7bfde68b"
      },
      "outputs": [
        {
          "output_type": "stream",
          "name": "stdout",
          "text": [
            "Drive already mounted at /content/drive; to attempt to forcibly remount, call drive.mount(\"/content/drive\", force_remount=True).\n"
          ]
        }
      ],
      "source": [
        "from google.colab import drive\n",
        "drive.mount('/content/drive')"
      ]
    },
    {
      "cell_type": "markdown",
      "metadata": {
        "id": "AOm-3kMzYZe1"
      },
      "source": [
        "**Importing necessary libraries**"
      ]
    },
    {
      "cell_type": "code",
      "execution_count": null,
      "metadata": {
        "colab": {
          "base_uri": "https://localhost:8080/"
        },
        "id": "ssNOldNxQjJs",
        "outputId": "a41fc1a5-06dc-4d12-8ee6-b8eb4ac18c60"
      },
      "outputs": [
        {
          "output_type": "stream",
          "name": "stdout",
          "text": [
            "Requirement already satisfied: transformers in /usr/local/lib/python3.10/dist-packages (4.33.2)\n",
            "Requirement already satisfied: filelock in /usr/local/lib/python3.10/dist-packages (from transformers) (3.12.2)\n",
            "Requirement already satisfied: huggingface-hub<1.0,>=0.15.1 in /usr/local/lib/python3.10/dist-packages (from transformers) (0.17.2)\n",
            "Requirement already satisfied: numpy>=1.17 in /usr/local/lib/python3.10/dist-packages (from transformers) (1.23.5)\n",
            "Requirement already satisfied: packaging>=20.0 in /usr/local/lib/python3.10/dist-packages (from transformers) (23.1)\n",
            "Requirement already satisfied: pyyaml>=5.1 in /usr/local/lib/python3.10/dist-packages (from transformers) (6.0.1)\n",
            "Requirement already satisfied: regex!=2019.12.17 in /usr/local/lib/python3.10/dist-packages (from transformers) (2023.6.3)\n",
            "Requirement already satisfied: requests in /usr/local/lib/python3.10/dist-packages (from transformers) (2.31.0)\n",
            "Requirement already satisfied: tokenizers!=0.11.3,<0.14,>=0.11.1 in /usr/local/lib/python3.10/dist-packages (from transformers) (0.13.3)\n",
            "Requirement already satisfied: safetensors>=0.3.1 in /usr/local/lib/python3.10/dist-packages (from transformers) (0.3.3)\n",
            "Requirement already satisfied: tqdm>=4.27 in /usr/local/lib/python3.10/dist-packages (from transformers) (4.66.1)\n",
            "Requirement already satisfied: fsspec in /usr/local/lib/python3.10/dist-packages (from huggingface-hub<1.0,>=0.15.1->transformers) (2023.6.0)\n",
            "Requirement already satisfied: typing-extensions>=3.7.4.3 in /usr/local/lib/python3.10/dist-packages (from huggingface-hub<1.0,>=0.15.1->transformers) (4.5.0)\n",
            "Requirement already satisfied: charset-normalizer<4,>=2 in /usr/local/lib/python3.10/dist-packages (from requests->transformers) (3.2.0)\n",
            "Requirement already satisfied: idna<4,>=2.5 in /usr/local/lib/python3.10/dist-packages (from requests->transformers) (3.4)\n",
            "Requirement already satisfied: urllib3<3,>=1.21.1 in /usr/local/lib/python3.10/dist-packages (from requests->transformers) (2.0.4)\n",
            "Requirement already satisfied: certifi>=2017.4.17 in /usr/local/lib/python3.10/dist-packages (from requests->transformers) (2023.7.22)\n"
          ]
        }
      ],
      "source": [
        "!pip install transformers"
      ]
    },
    {
      "cell_type": "code",
      "execution_count": null,
      "metadata": {
        "id": "NPBpMOzb_eF7"
      },
      "outputs": [],
      "source": [
        "# Provides functions for interacting with the operating system\n",
        "import os\n",
        "\n",
        "# For GPU access and various neural network functionalities\n",
        "import torch"
      ]
    },
    {
      "cell_type": "markdown",
      "metadata": {
        "id": "WalqmEtcYvTt"
      },
      "source": [
        "**Loading Training data and Preprocessing it**"
      ]
    },
    {
      "cell_type": "code",
      "execution_count": null,
      "metadata": {
        "colab": {
          "base_uri": "https://localhost:8080/"
        },
        "id": "WRCB041p_eDb",
        "outputId": "655e27fa-59c1-4975-b867-472db89a2790"
      },
      "outputs": [
        {
          "output_type": "stream",
          "name": "stdout",
          "text": [
            "                                                  review sentiment\n",
            "0      One of the other reviewers has mentioned that ...  positive\n",
            "1      A wonderful little production. <br /><br />The...  positive\n",
            "2      I thought this was a wonderful way to spend ti...  positive\n",
            "3      Basically there's a family where a little boy ...  negative\n",
            "4      Petter Mattei's \"Love in the Time of Money\" is...  positive\n",
            "...                                                  ...       ...\n",
            "49995  I thought this movie did a down right good job...  positive\n",
            "49996  Bad plot, bad dialogue, bad acting, idiotic di...  negative\n",
            "49997  I am a Catholic taught in parochial elementary...  negative\n",
            "49998  I'm going to have to disagree with the previou...  negative\n",
            "49999  No one expects the Star Trek movies to be high...  negative\n",
            "\n",
            "[50000 rows x 2 columns]\n"
          ]
        }
      ],
      "source": [
        "# For data manipulation and analysis\n",
        "import pandas as pd\n",
        "\n",
        "\n",
        "# Read the CSV file 'IMDB Dataset.csv' into a DataFrame and store it in the variable 'df'\n",
        "df = pd.read_csv('/content/drive/MyDrive/Semester 3/Transformers Tutorial/IMDB Dataset.csv')\n",
        "print(df)"
      ]
    },
    {
      "cell_type": "code",
      "execution_count": null,
      "metadata": {
        "id": "_vU21Xu7VjKE"
      },
      "outputs": [],
      "source": [
        "# Extracting the 'review' column from the DataFrame and converting it to a list\n",
        "texts = df['review'].tolist()\n",
        "\n",
        "# Creating labels based on the 'sentiment' column, where 'positive' is mapped to 1 and 'negative' to 0\n",
        "labels = [1 if sentiment == \"positive\" else 0 for sentiment in df['sentiment'].tolist()]"
      ]
    },
    {
      "cell_type": "markdown",
      "metadata": {
        "id": "vTfsuaGjc5it"
      },
      "source": [
        "**Prepare data for text classification model**\n",
        "\n",
        "* First divide the dataset into two subsets: one for training and the other for validation in 80-20 ratio.\n",
        "* Then initialize a BERT tokenizer specific to the chosen model and uses it to tokenize the training and validation texts.\n",
        "* Tokenized texts are organized into datasets along with their corresponding labels.\n",
        "* Data is loaded into dataloaders, making it suitable for model training.\n",
        "\n",
        "This process sets up the data pipeline for training and evaluation of the BERT text classification model."
      ]
    },
    {
      "cell_type": "code",
      "execution_count": null,
      "metadata": {
        "colab": {
          "base_uri": "https://localhost:8080/",
          "height": 435
        },
        "id": "r-pRJORTCsgX",
        "outputId": "cc51d7c8-300e-41a0-ee39-b654a7a1b196"
      },
      "outputs": [
        {
          "output_type": "execute_result",
          "data": {
            "image/jpeg": "[encoded data removed]",
            "text/plain": [
              "<IPython.core.display.Image object>"
            ]
          },
          "metadata": {
            "image/jpeg": {
              "width": 800
            }
          },
          "execution_count": 12
        }
      ],
      "source": [
        "from IPython.display import Image\n",
        "Image(\"/content/drive/MyDrive/Semester 3/Transformers Tutorial/datasplit.jpeg\", width=800)"
      ]
    },
    {
      "cell_type": "code",
      "execution_count": null,
      "metadata": {
        "id": "0UvJhI1-A5Zh"
      },
      "outputs": [],
      "source": [
        "# For data splitting\n",
        "from sklearn.model_selection import train_test_split\n",
        "\n",
        "\n",
        "# Splitting the data into train and test sets, with 80% for training and 20% for testing\n",
        "train_texts, test_texts, train_labels, test_labels = train_test_split(texts, labels, test_size=0.2, random_state=42)\n",
        "\n",
        "# Further splitting the training data into train and validation sets, leaving 60% for training and 20% for validation\n",
        "train_texts, val_texts, train_labels, val_labels = train_test_split(train_texts, train_labels, test_size=0.25, random_state=42) # 0.25 x 0.8 = 0.2\n"
      ]
    },
    {
      "cell_type": "markdown",
      "metadata": {
        "id": "DUZbtKwtbsFo"
      },
      "source": [
        "The TextClassificationDataset class is designed to create a custom dataset for text classification tasks. It takes in texts, corresponding labels, a tokenizer, and a maximum sequence length as input. The class allows you to specify the length of the dataset, access individual data samples, and preprocess the text data using the provided tokenizer. It returns a dictionary containing input IDs, attention masks, and labels for each data sample, making it compatible with PyTorch's DataLoader for training and evaluation in text classification model."
      ]
    },
    {
      "cell_type": "code",
      "execution_count": null,
      "metadata": {
        "id": "V2mj18YMATAi"
      },
      "outputs": [],
      "source": [
        "# custom dataset class for text classification tasks.\n",
        "\n",
        "# For working with BERT-based models and optimization\n",
        "from transformers import BertTokenizer\n",
        "from torch.utils.data import Dataset\n",
        "\n",
        "# Define the name of the BERT model to be used\n",
        "bert_model_name = 'bert-base-uncased'\n",
        "\n",
        "# Define the maximum length of input sequences (e.g., maximum number of tokens)\n",
        "max_length = 128\n",
        "\n",
        "# Initialize a BERT tokenizer using the specified pretrained model name.\n",
        "tokenizer = BertTokenizer.from_pretrained(bert_model_name)\n",
        "\n",
        "\n",
        "class TextClassificationDataset(Dataset):\n",
        "    def __init__(self, texts, labels, tokenizer, max_length):\n",
        "        # Initialize the dataset with texts, corresponding labels, tokenizer, and maximum sequence length.\n",
        "        self.texts = texts\n",
        "        self.labels = labels\n",
        "        self.tokenizer = tokenizer\n",
        "        self.max_length = max_length\n",
        "\n",
        "    def __len__(self):\n",
        "        # Return the total number of samples in the dataset.\n",
        "        return len(self.texts)\n",
        "\n",
        "    def __getitem__(self, idx):\n",
        "        # Retrieve a single sample by its index.\n",
        "        text = self.texts[idx]\n",
        "        label = self.labels[idx]\n",
        "\n",
        "        # Tokenize and preprocess the text sample using the tokenizer.\n",
        "        encoding = self.tokenizer(\n",
        "            text,\n",
        "            return_tensors='pt',  # Return PyTorch tensors.\n",
        "            max_length=self.max_length,  # Truncate or pad text to the specified max length.\n",
        "            padding='max_length',  # Pad sequences to have the same length.\n",
        "            truncation=True  # Truncate sequences if they exceed the max length.\n",
        "        )\n",
        "\n",
        "        # Return the tokenized input IDs, attention mask, and corresponding label.\n",
        "        return {\n",
        "            'input_ids': encoding['input_ids'].flatten(),  # Flatten the input IDs tensor.\n",
        "            'attention_mask': encoding['attention_mask'].flatten(),  # Flatten the attention mask tensor.\n",
        "            'label': torch.tensor(label)  # Convert the label to a PyTorch tensor.\n",
        "        }\n"
      ]
    },
    {
      "cell_type": "code",
      "execution_count": null,
      "metadata": {
        "colab": {
          "base_uri": "https://localhost:8080/"
        },
        "id": "WBMAnnfifTKX",
        "outputId": "e369c30c-c76d-4f84-e60c-06217aed3930"
      },
      "outputs": [
        {
          "output_type": "stream",
          "name": "stdout",
          "text": [
            "Tokeniser arguments: dict_keys(['input_ids', 'token_type_ids', 'attention_mask'])\n",
            "\n",
            "Tokeniser Result size: torch.Size([1, 128])\n",
            "\n",
            "Input ids: tensor([[ 101, 2023, 5691, 2003, 2028, 1997, 1996, 2190, 2537, 1045, 2031, 2464,\n",
            "         1999, 2086, 1012,  102,    0,    0,    0,    0,    0,    0,    0,    0,\n",
            "            0,    0,    0,    0,    0,    0,    0,    0,    0,    0,    0,    0,\n",
            "            0,    0,    0,    0,    0,    0,    0,    0,    0,    0,    0,    0,\n",
            "            0,    0,    0,    0,    0,    0,    0,    0,    0,    0,    0,    0,\n",
            "            0,    0,    0,    0,    0,    0,    0,    0,    0,    0,    0,    0,\n",
            "            0,    0,    0,    0,    0,    0,    0,    0,    0,    0,    0,    0,\n",
            "            0,    0,    0,    0,    0,    0,    0,    0,    0,    0,    0,    0,\n",
            "            0,    0,    0,    0,    0,    0,    0,    0,    0,    0,    0,    0,\n",
            "            0,    0,    0,    0,    0,    0,    0,    0,    0,    0,    0,    0,\n",
            "            0,    0,    0,    0,    0,    0,    0,    0]])\n",
            "\n",
            "Token type ids: tensor([[0, 0, 0, 0, 0, 0, 0, 0, 0, 0, 0, 0, 0, 0, 0, 0, 0, 0, 0, 0, 0, 0, 0, 0,\n",
            "         0, 0, 0, 0, 0, 0, 0, 0, 0, 0, 0, 0, 0, 0, 0, 0, 0, 0, 0, 0, 0, 0, 0, 0,\n",
            "         0, 0, 0, 0, 0, 0, 0, 0, 0, 0, 0, 0, 0, 0, 0, 0, 0, 0, 0, 0, 0, 0, 0, 0,\n",
            "         0, 0, 0, 0, 0, 0, 0, 0, 0, 0, 0, 0, 0, 0, 0, 0, 0, 0, 0, 0, 0, 0, 0, 0,\n",
            "         0, 0, 0, 0, 0, 0, 0, 0, 0, 0, 0, 0, 0, 0, 0, 0, 0, 0, 0, 0, 0, 0, 0, 0,\n",
            "         0, 0, 0, 0, 0, 0, 0, 0]])\n",
            "\n",
            "Attention mask: tensor([[1, 1, 1, 1, 1, 1, 1, 1, 1, 1, 1, 1, 1, 1, 1, 1, 0, 0, 0, 0, 0, 0, 0, 0,\n",
            "         0, 0, 0, 0, 0, 0, 0, 0, 0, 0, 0, 0, 0, 0, 0, 0, 0, 0, 0, 0, 0, 0, 0, 0,\n",
            "         0, 0, 0, 0, 0, 0, 0, 0, 0, 0, 0, 0, 0, 0, 0, 0, 0, 0, 0, 0, 0, 0, 0, 0,\n",
            "         0, 0, 0, 0, 0, 0, 0, 0, 0, 0, 0, 0, 0, 0, 0, 0, 0, 0, 0, 0, 0, 0, 0, 0,\n",
            "         0, 0, 0, 0, 0, 0, 0, 0, 0, 0, 0, 0, 0, 0, 0, 0, 0, 0, 0, 0, 0, 0, 0, 0,\n",
            "         0, 0, 0, 0, 0, 0, 0, 0]])\n"
          ]
        }
      ],
      "source": [
        "#sample tokenization\n",
        "\n",
        "tokenizer = BertTokenizer.from_pretrained(bert_model_name)\n",
        "text = \"This movies is one of the best production I have seen in years. \"\n",
        "\n",
        "encoding = tokenizer(\n",
        "            text,\n",
        "            return_tensors='pt',  # Return PyTorch tensors.\n",
        "            max_length=max_length,  # Truncate or pad text to the specified max length.\n",
        "            padding='max_length',  # Pad sequences to have the same length.\n",
        "            truncation=True  # Truncate sequences if they exceed the max length.\n",
        "        )\n",
        "print(\"Tokeniser arguments:\",encoding.keys())\n",
        "print(\"\\nTokeniser Result size:\",encoding[\"input_ids\"].shape)\n",
        "print(\"\\nInput ids:\",encoding['input_ids'])\n",
        "print(\"\\nToken type ids:\",encoding['token_type_ids'])\n",
        "print(\"\\nAttention mask:\",encoding['attention_mask'])"
      ]
    },
    {
      "cell_type": "code",
      "source": [
        "# Get the input IDs and tokens\n",
        "input_ids = encoding['input_ids'][0]\n",
        "tokens = tokenizer.convert_ids_to_tokens(input_ids)\n",
        "\n",
        "# Print the tokens and their corresponding input IDs\n",
        "for token, input_id in zip(tokens, input_ids):\n",
        "    print(f\"Token: {token}\\t Input ID: {input_id}\")\n",
        "    if input_id ==0:\n",
        "      break\n"
      ],
      "metadata": {
        "colab": {
          "base_uri": "https://localhost:8080/"
        },
        "id": "IEl1hAwtDEfU",
        "outputId": "89a9a777-6b5d-473c-d0ce-e23e2c1afc62"
      },
      "execution_count": null,
      "outputs": [
        {
          "output_type": "stream",
          "name": "stdout",
          "text": [
            "Token: [CLS]\t Input ID: 101\n",
            "Token: this\t Input ID: 2023\n",
            "Token: movies\t Input ID: 5691\n",
            "Token: is\t Input ID: 2003\n",
            "Token: one\t Input ID: 2028\n",
            "Token: of\t Input ID: 1997\n",
            "Token: the\t Input ID: 1996\n",
            "Token: best\t Input ID: 2190\n",
            "Token: production\t Input ID: 2537\n",
            "Token: i\t Input ID: 1045\n",
            "Token: have\t Input ID: 2031\n",
            "Token: seen\t Input ID: 2464\n",
            "Token: in\t Input ID: 1999\n",
            "Token: years\t Input ID: 2086\n",
            "Token: .\t Input ID: 1012\n",
            "Token: [SEP]\t Input ID: 102\n",
            "Token: [PAD]\t Input ID: 0\n"
          ]
        }
      ]
    },
    {
      "cell_type": "code",
      "execution_count": null,
      "metadata": {
        "id": "2K1Q6LKgA9mp"
      },
      "outputs": [],
      "source": [
        "# Create a training dataset by tokenizing the training texts and labels using the tokenizer,\n",
        "# ensuring a maximum length for input sequences.\n",
        "train_dataset = TextClassificationDataset(train_texts, train_labels, tokenizer, max_length)\n",
        "\n",
        "# Create a validation dataset by tokenizing the validation texts and labels using the tokenizer,\n",
        "# ensuring a maximum length for input sequences.\n",
        "val_dataset = TextClassificationDataset(val_texts, val_labels, tokenizer, max_length)"
      ]
    },
    {
      "cell_type": "code",
      "execution_count": null,
      "metadata": {
        "id": "N_N_GLuRIRBw"
      },
      "outputs": [],
      "source": [
        "# For handling data loading and batching\n",
        "from torch.utils.data import DataLoader\n",
        "\n",
        "# Define the batch size for training data (number of examples processed together)\n",
        "batch_size = 16\n",
        "\n",
        "# Create a DataLoader for the training dataset to handle batching and shuffling.\n",
        "# The batch size is specified by 'batch_size', and shuffling the data is useful for training.\n",
        "train_dataloader = DataLoader(train_dataset, batch_size=batch_size, shuffle=True)\n",
        "\n",
        "# Create a DataLoader for the validation dataset without shuffling, as validation doesn't require shuffling.\n",
        "val_dataloader = DataLoader(val_dataset, batch_size=batch_size)"
      ]
    },
    {
      "cell_type": "markdown",
      "metadata": {
        "id": "UNp-U_aJZlcU"
      },
      "source": [
        "**Classifier over BERT base model**\n",
        "\n",
        "\n",
        " The BERTClassifier class is a text classification model. It utilizes the pre-trained BERT model to extract contextual embeddings from input text. The class includes a dropout layer to prevent overfitting and a fully connected layer (fc) for classification. In the forward method, it takes input IDs and attention masks, processes them through the BERT model, and then applies dropout to the pooled output. Finally, it computes class logits using the fully connected layer."
      ]
    },
    {
      "cell_type": "code",
      "execution_count": null,
      "metadata": {
        "id": "8HJlyL6AM9HT",
        "colab": {
          "base_uri": "https://localhost:8080/",
          "height": 608
        },
        "outputId": "df355f40-b88e-49db-d1d8-86f2b5eb9d37"
      },
      "outputs": [
        {
          "output_type": "execute_result",
          "data": {
            "image/png": "[encoded data removed]",
            "text/plain": [
              "<IPython.core.display.Image object>"
            ]
          },
          "metadata": {},
          "execution_count": 3
        }
      ],
      "source": [
        "from IPython.display import Image\n",
        "Image(\"/content/drive/MyDrive/Semester 3/Transformers Tutorial/BERT-Fine-Tuning-Model-Architecture.png\")"
      ]
    },
    {
      "cell_type": "code",
      "execution_count": null,
      "metadata": {
        "id": "OitVnBnyAVrp"
      },
      "outputs": [],
      "source": [
        "# Define a custom classifier model using BERT as a base.\n",
        "\n",
        "# Neural network related modules and functions\n",
        "from torch import nn\n",
        "from transformers import BertModel\n",
        "\n",
        "\n",
        "class BERTClassifier(nn.Module):\n",
        "    # Initialize the model.\n",
        "    def __init__(self, bert_model_name, num_classes):\n",
        "        super(BERTClassifier, self).__init__()\n",
        "\n",
        "        # Load the pre-trained BERT model from the specified model name.\n",
        "        self.bert = BertModel.from_pretrained(bert_model_name)\n",
        "\n",
        "        # Add a dropout layer to prevent overfitting (with dropout rate 0.1).\n",
        "        self.dropout = nn.Dropout(0.1)\n",
        "\n",
        "        # Add a fully connected layer (linear layer) for classification.\n",
        "        # The input size is the hidden size of BERT, and the output size is the number of classes.\n",
        "        self.fc = nn.Linear(self.bert.config.hidden_size, num_classes)\n",
        "\n",
        "    # Define the forward pass of the model.\n",
        "    def forward(self, input_ids, attention_mask):\n",
        "        # Pass the input IDs and attention mask through the BERT model.\n",
        "        outputs = self.bert(input_ids=input_ids, attention_mask=attention_mask)\n",
        "\n",
        "        # Extract the hidden states (representations) of each token from the last layer.\n",
        "        hidden_states = outputs.last_hidden_state\n",
        "\n",
        "        # Get the pooled representation (CLS token) from the BERT model.\n",
        "        pooled_output = outputs.pooler_output\n",
        "\n",
        "        # Apply dropout to the pooled representation.\n",
        "        x = self.dropout(pooled_output)\n",
        "\n",
        "        # Pass the dropout output through the fully connected layer for classification.\n",
        "        logits = torch.sigmoid(self.fc(x))\n",
        "\n",
        "        # Return both the logits (output of the classifier) and the hidden states.\n",
        "        return logits, hidden_states\n"
      ]
    },
    {
      "cell_type": "markdown",
      "metadata": {
        "id": "dO6d0b6YaJVN"
      },
      "source": [
        "**The train funct**ion\n",
        "\n",
        "The `train()` function accepts the model, data loader, optimizer, scheduler, and device as its inputs. It starts by setting the model to training mode and then iterates through each batch of data provided by the data loader. Within each batch, it resets the optimizer's gradients, retrieves the input IDs, attention masks, and labels, and subsequently forwards them to the model for processing."
      ]
    },
    {
      "cell_type": "code",
      "execution_count": null,
      "metadata": {
        "id": "bDKg-vP0AZ5q"
      },
      "outputs": [],
      "source": [
        "# Function for training the model\n",
        "def train(model, data_loader, optimizer, scheduler, device):\n",
        "    # Set the model to training mode\n",
        "    model.train()\n",
        "\n",
        "    # Iterate through each batch in the data loader\n",
        "    for batch in data_loader:\n",
        "        # Zero out the gradients in the optimizer\n",
        "        optimizer.zero_grad()\n",
        "\n",
        "        # Move input data to the specified device (e.g., GPU)\n",
        "        input_ids = batch['input_ids'].to(device)\n",
        "        attention_mask = batch['attention_mask'].to(device)\n",
        "        labels = batch['label'].to(device)\n",
        "\n",
        "        # Forward pass through the model to get predictions\n",
        "        outputs, _ = model(input_ids=input_ids, attention_mask=attention_mask)\n",
        "\n",
        "        # Calculate the loss using CrossEntropyLoss\n",
        "        loss = nn.CrossEntropyLoss()(outputs, labels)\n",
        "\n",
        "        # Perform backpropagation to compute gradients\n",
        "        loss.backward()\n",
        "\n",
        "        # Update model parameters using the optimizer\n",
        "        optimizer.step()\n",
        "\n",
        "        # Adjust learning rate using the scheduler\n",
        "        scheduler.step()"
      ]
    },
    {
      "cell_type": "markdown",
      "metadata": {
        "id": "YnH24IT3aMIF"
      },
      "source": [
        "**Evaluation**\n",
        "\n",
        "The evaluate() function assesses model's performance. It calculates the model's predictions for input data, compares them to actual labels, and computes the accuracy of these predictions. Additionally, it generates a detailed classification report, including metrics like precision, recall, F1-score, and support for each class. This function is essential for understanding how well a model is classifying data."
      ]
    },
    {
      "cell_type": "code",
      "execution_count": null,
      "metadata": {
        "id": "kyHTMUSVAk5w"
      },
      "outputs": [],
      "source": [
        "# This function evaluates a given model on a dataset using the specified device.\n",
        "\n",
        "# For data splitting and evaluation\n",
        "from sklearn.metrics import accuracy_score, classification_report\n",
        "\n",
        "\n",
        "def evaluate(model, data_loader, device):\n",
        "    # Set the model to evaluation mode\n",
        "    model.eval()\n",
        "\n",
        "    # Initialize empty lists to store predictions and actual labels\n",
        "    predictions = []\n",
        "    actual_labels = []\n",
        "\n",
        "    # Disable gradient computation during evaluation\n",
        "    with torch.no_grad():\n",
        "        # Iterate over batches in the data loader\n",
        "        for batch in data_loader:\n",
        "            # Move input data and labels to the specified device (CPU or GPU)\n",
        "            input_ids = batch['input_ids'].to(device)\n",
        "            attention_mask = batch['attention_mask'].to(device)\n",
        "            labels = batch['label'].to(device)\n",
        "\n",
        "            # Forward pass through the model to obtain predictions\n",
        "            outputs, _ = model(input_ids=input_ids, attention_mask=attention_mask)\n",
        "\n",
        "            # Compute the predicted class labels by taking the argmax of the output scores\n",
        "            _, preds = torch.max(outputs, dim=1)\n",
        "\n",
        "            # Extend the predictions and actual labels lists with batch results\n",
        "            predictions.extend(preds.cpu().tolist())\n",
        "            actual_labels.extend(labels.cpu().tolist())\n",
        "\n",
        "    # Calculate accuracy and generate a classification report based on actual vs. predicted labels\n",
        "    return accuracy_score(actual_labels, predictions), classification_report(actual_labels, predictions)\n"
      ]
    },
    {
      "cell_type": "code",
      "execution_count": null,
      "metadata": {
        "colab": {
          "base_uri": "https://localhost:8080/"
        },
        "id": "MkvQ_n0RBNPh",
        "outputId": "5c89687f-280a-4c9d-8b44-10a80eb50aba"
      },
      "outputs": [
        {
          "output_type": "execute_result",
          "data": {
            "text/plain": [
              "BERTClassifier(\n",
              "  (bert): BertModel(\n",
              "    (embeddings): BertEmbeddings(\n",
              "      (word_embeddings): Embedding(30522, 768, padding_idx=0)\n",
              "      (position_embeddings): Embedding(512, 768)\n",
              "      (token_type_embeddings): Embedding(2, 768)\n",
              "      (LayerNorm): LayerNorm((768,), eps=1e-12, elementwise_affine=True)\n",
              "      (dropout): Dropout(p=0.1, inplace=False)\n",
              "    )\n",
              "    (encoder): BertEncoder(\n",
              "      (layer): ModuleList(\n",
              "        (0-11): 12 x BertLayer(\n",
              "          (attention): BertAttention(\n",
              "            (self): BertSelfAttention(\n",
              "              (query): Linear(in_features=768, out_features=768, bias=True)\n",
              "              (key): Linear(in_features=768, out_features=768, bias=True)\n",
              "              (value): Linear(in_features=768, out_features=768, bias=True)\n",
              "              (dropout): Dropout(p=0.1, inplace=False)\n",
              "            )\n",
              "            (output): BertSelfOutput(\n",
              "              (dense): Linear(in_features=768, out_features=768, bias=True)\n",
              "              (LayerNorm): LayerNorm((768,), eps=1e-12, elementwise_affine=True)\n",
              "              (dropout): Dropout(p=0.1, inplace=False)\n",
              "            )\n",
              "          )\n",
              "          (intermediate): BertIntermediate(\n",
              "            (dense): Linear(in_features=768, out_features=3072, bias=True)\n",
              "            (intermediate_act_fn): GELUActivation()\n",
              "          )\n",
              "          (output): BertOutput(\n",
              "            (dense): Linear(in_features=3072, out_features=768, bias=True)\n",
              "            (LayerNorm): LayerNorm((768,), eps=1e-12, elementwise_affine=True)\n",
              "            (dropout): Dropout(p=0.1, inplace=False)\n",
              "          )\n",
              "        )\n",
              "      )\n",
              "    )\n",
              "    (pooler): BertPooler(\n",
              "      (dense): Linear(in_features=768, out_features=768, bias=True)\n",
              "      (activation): Tanh()\n",
              "    )\n",
              "  )\n",
              "  (dropout): Dropout(p=0.1, inplace=False)\n",
              "  (fc): Linear(in_features=768, out_features=2, bias=True)\n",
              ")"
            ]
          },
          "metadata": {},
          "execution_count": 50
        }
      ],
      "source": [
        "# Define the number of classes for the sentiment analysis task (here, positive and negative)\n",
        "num_classes = 2\n",
        "\n",
        "# Check if CUDA (GPU) is available, and set the device accordingly\n",
        "device = torch.device(\"cuda\" if torch.cuda.is_available() else \"cpu\")\n",
        "\n",
        "# Create an instance of the BERTClassifier model, specifying the BERT model name and number of output classes,\n",
        "# and move the model to the selected device (either GPU or CPU)\n",
        "model = BERTClassifier(bert_model_name, num_classes).to(device)\n",
        "\n",
        "# The 'model' variable now contains the BERTClassifier model, ready for further operations or training\n",
        "model"
      ]
    },
    {
      "cell_type": "code",
      "execution_count": null,
      "metadata": {
        "colab": {
          "base_uri": "https://localhost:8080/"
        },
        "id": "4HbpxEvkW-ga",
        "outputId": "4a2556c5-f38b-40bc-e626-87880cf8d97b"
      },
      "outputs": [
        {
          "output_type": "stream",
          "name": "stderr",
          "text": [
            "/usr/local/lib/python3.10/dist-packages/transformers/optimization.py:411: FutureWarning: This implementation of AdamW is deprecated and will be removed in a future version. Use the PyTorch implementation torch.optim.AdamW instead, or set `no_deprecation_warning=True` to disable this warning\n",
            "  warnings.warn(\n"
          ]
        }
      ],
      "source": [
        "from transformers import AdamW, get_linear_schedule_with_warmup\n",
        "\n",
        "# Define the number of training epochs (how many times the model goes through the entire dataset)\n",
        "num_epochs = 5\n",
        "\n",
        "# Define the learning rate for the optimizer (controls the step size during training)\n",
        "learning_rate = 2e-5\n",
        "\n",
        "\n",
        "# Initialize the optimizer with the model's parameters and a specified learning rate\n",
        "optimizer = AdamW(model.parameters(), lr=learning_rate)\n",
        "\n",
        "# Calculate the total number of training steps by multiplying the number of batches\n",
        "# in the training dataloader with the number of training epochs\n",
        "total_steps = len(train_dataloader) * num_epochs\n",
        "\n",
        "# Create a learning rate scheduler that linearly increases the learning rate for a certain number\n",
        "# of warm-up steps and then decreases it linearly for the remaining training steps\n",
        "scheduler = get_linear_schedule_with_warmup(optimizer, num_warmup_steps=0, num_training_steps=total_steps)\n"
      ]
    },
    {
      "cell_type": "markdown",
      "metadata": {
        "id": "MD1qaaljgyIZ"
      },
      "source": [
        "**Train model and save**"
      ]
    },
    {
      "cell_type": "code",
      "execution_count": null,
      "metadata": {
        "colab": {
          "base_uri": "https://localhost:8080/"
        },
        "id": "XUe1cMXeBSdq",
        "outputId": "2a89f4dc-d4d9-4282-d9af-c1f9744a72e3"
      },
      "outputs": [
        {
          "name": "stdout",
          "output_type": "stream",
          "text": [
            "Epoch 1/5\n",
            "Validation Accuracy: 0.8790\n",
            "              precision    recall  f1-score   support\n",
            "\n",
            "           0       0.87      0.89      0.88      4937\n",
            "           1       0.89      0.87      0.88      5063\n",
            "\n",
            "    accuracy                           0.88     10000\n",
            "   macro avg       0.88      0.88      0.88     10000\n",
            "weighted avg       0.88      0.88      0.88     10000\n",
            "\n",
            "Epoch 2/5\n",
            "Validation Accuracy: 0.8806\n",
            "              precision    recall  f1-score   support\n",
            "\n",
            "           0       0.92      0.83      0.87      4937\n",
            "           1       0.85      0.93      0.89      5063\n",
            "\n",
            "    accuracy                           0.88     10000\n",
            "   macro avg       0.88      0.88      0.88     10000\n",
            "weighted avg       0.88      0.88      0.88     10000\n",
            "\n",
            "Epoch 3/5\n",
            "Validation Accuracy: 0.8834\n",
            "              precision    recall  f1-score   support\n",
            "\n",
            "           0       0.86      0.92      0.89      4937\n",
            "           1       0.91      0.85      0.88      5063\n",
            "\n",
            "    accuracy                           0.88     10000\n",
            "   macro avg       0.89      0.88      0.88     10000\n",
            "weighted avg       0.89      0.88      0.88     10000\n",
            "\n",
            "Epoch 4/5\n",
            "Validation Accuracy: 0.8876\n",
            "              precision    recall  f1-score   support\n",
            "\n",
            "           0       0.88      0.89      0.89      4937\n",
            "           1       0.89      0.88      0.89      5063\n",
            "\n",
            "    accuracy                           0.89     10000\n",
            "   macro avg       0.89      0.89      0.89     10000\n",
            "weighted avg       0.89      0.89      0.89     10000\n",
            "\n",
            "Epoch 5/5\n",
            "Validation Accuracy: 0.8888\n",
            "              precision    recall  f1-score   support\n",
            "\n",
            "           0       0.88      0.89      0.89      4937\n",
            "           1       0.89      0.88      0.89      5063\n",
            "\n",
            "    accuracy                           0.89     10000\n",
            "   macro avg       0.89      0.89      0.89     10000\n",
            "weighted avg       0.89      0.89      0.89     10000\n",
            "\n"
          ]
        }
      ],
      "source": [
        "# Iterate through a specified number of epochs\n",
        "accurary_array = []\n",
        "\n",
        "for epoch in range(num_epochs):\n",
        "    # Display the current epoch number\n",
        "    print(f\"Epoch {epoch + 1}/{num_epochs}\")\n",
        "\n",
        "    # Perform training using the 'train' function and update model parameters\n",
        "    train(model, train_dataloader, optimizer, scheduler, device)\n",
        "\n",
        "    # Evaluate the model's performance on the validation dataset and calculate accuracy and report\n",
        "    accuracy, report = evaluate(model, val_dataloader, device)\n",
        "\n",
        "    # Display the validation accuracy for the current epoch\n",
        "    print(f\"Validation Accuracy: {accuracy:.4f}\")\n",
        "\n",
        "    #append current accuracy to the array\n",
        "    accurary_array.append(accuracy)\n",
        "\n",
        "    # Print a classification report summarizing model performance\n",
        "    print(report)\n"
      ]
    },
    {
      "cell_type": "code",
      "execution_count": null,
      "metadata": {
        "id": "sUvSb4ndBUIx"
      },
      "outputs": [],
      "source": [
        "# Save the state dictionary of the 'model' to a file named \"bert_text_classifier.pth\"\n",
        "torch.save(model.state_dict(), \"/content/drive/MyDrive/Semester 3/Transformers Tutorial/bert_text_classifier_imdb.pth\")"
      ]
    },
    {
      "cell_type": "markdown",
      "metadata": {
        "id": "qH1Pka_uDhl3"
      },
      "source": [
        "**Evaluating our model’s performance**"
      ]
    },
    {
      "cell_type": "code",
      "execution_count": null,
      "metadata": {
        "id": "yfNrioCICS09",
        "outputId": "a5aff885-321f-4ae1-f111-64a26faa6f57"
      },
      "outputs": [
        {
          "name": "stderr",
          "output_type": "stream",
          "text": [
            "Some weights of the model checkpoint at bert-base-uncased were not used when initializing BertModel: ['cls.predictions.transform.dense.weight', 'cls.predictions.bias', 'cls.seq_relationship.weight', 'cls.seq_relationship.bias', 'cls.predictions.decoder.weight', 'cls.predictions.transform.dense.bias', 'cls.predictions.transform.LayerNorm.weight', 'cls.predictions.transform.LayerNorm.bias']\n",
            "- This IS expected if you are initializing BertModel from the checkpoint of a model trained on another task or with another architecture (e.g. initializing a BertForSequenceClassification model from a BertForPreTraining model).\n",
            "- This IS NOT expected if you are initializing BertModel from the checkpoint of a model that you expect to be exactly identical (initializing a BertForSequenceClassification model from a BertForSequenceClassification model).\n"
          ]
        },
        {
          "data": {
            "text/plain": [
              "<All keys matched successfully>"
            ]
          },
          "execution_count": 30,
          "metadata": {},
          "output_type": "execute_result"
        }
      ],
      "source": [
        "#load the saved model GPU\n",
        "load_model = BERTClassifier(bert_model_name, num_classes).to(device)\n",
        "load_model.load_state_dict(torch.load('/content/drive/MyDrive/Semester 3/Transformers Tutorial/bert_text_classifier_imdb.pth'), strict=False)"
      ]
    },
    {
      "cell_type": "code",
      "execution_count": null,
      "metadata": {
        "colab": {
          "base_uri": "https://localhost:8080/"
        },
        "id": "BvHSx-kNtUPW",
        "outputId": "4a40ebdc-08ce-4662-9aa0-8f2e97700e2b"
      },
      "outputs": [
        {
          "output_type": "execute_result",
          "data": {
            "text/plain": [
              "_IncompatibleKeys(missing_keys=[], unexpected_keys=['bert.embeddings.position_ids'])"
            ]
          },
          "metadata": {},
          "execution_count": 52
        }
      ],
      "source": [
        "#load the saved model CPU\n",
        "load_model = BERTClassifier(bert_model_name, num_classes)\n",
        "load_model.load_state_dict(torch.load('/content/drive/MyDrive/Semester 3/Transformers Tutorial/bert_text_classifier_imdb.pth', map_location='cpu'), strict=False)\n"
      ]
    },
    {
      "cell_type": "code",
      "execution_count": null,
      "metadata": {
        "colab": {
          "background_save": true
        },
        "id": "Fj059wKyzh2F",
        "outputId": "50a6cbe6-b685-403d-91a4-f76058d83a5b"
      },
      "outputs": [
        {
          "name": "stdout",
          "output_type": "stream",
          "text": [
            "Test Accuracy: 0.8899\n",
            "              precision    recall  f1-score   support\n",
            "\n",
            "           0       0.89      0.89      0.89      4961\n",
            "           1       0.89      0.89      0.89      5039\n",
            "\n",
            "    accuracy                           0.89     10000\n",
            "   macro avg       0.89      0.89      0.89     10000\n",
            "weighted avg       0.89      0.89      0.89     10000\n",
            "\n"
          ]
        }
      ],
      "source": [
        "#Evaluation On Test Dataset\n",
        "test_dataset = TextClassificationDataset(test_texts, test_labels, tokenizer, max_length)\n",
        "test_dataloader = DataLoader(test_dataset, batch_size=batch_size, shuffle=True)\n",
        "accuracy, report = evaluate(load_model, test_dataloader, device)\n",
        "print(f\"Test Accuracy: {accuracy:.4f}\")\n",
        "print(report)"
      ]
    },
    {
      "cell_type": "markdown",
      "metadata": {
        "id": "huKcV4nYcOH1"
      },
      "source": [
        "\n",
        "\n",
        "\n",
        "**Prediction Function**\n",
        "\n",
        "The function utilizes the fine-tuned model for sentiment analysis. In evaluation mode, it takes a text input, a model, tokenizer, and other optional parameters like device and maximum length. The function encodes the input text, ensuring it meets the specified maximum length, and then runs the model on this input. It retrieves the model's prediction and interprets it as either \"positive\" or \"negative\" sentiment. This function simplifies sentiment analysis tasks by providing a quick way to classify text as either positive or negative."
      ]
    },
    {
      "cell_type": "code",
      "execution_count": null,
      "metadata": {
        "id": "ZsKGLUmtAmkB"
      },
      "outputs": [],
      "source": [
        "# Define a function to predict sentiment using the provided model and tokenizer\n",
        "def predict_sentiment(text, model, tokenizer, device, max_length=128):\n",
        "    # Put the model in evaluation mode\n",
        "    model.eval()\n",
        "\n",
        "    # Tokenize and encode the input text\n",
        "    encoding = tokenizer(text, return_tensors='pt', max_length=max_length, padding='max_length', truncation=True)\n",
        "\n",
        "    # Move the input tensors to the specified device (e.g., GPU)\n",
        "    input_ids = encoding['input_ids'].to(device)\n",
        "    attention_mask = encoding['attention_mask'].to(device)\n",
        "\n",
        "    # Perform forward pass (prediction) without gradient computation\n",
        "    with torch.no_grad():\n",
        "        outputs,_ = model(input_ids=input_ids, attention_mask=attention_mask)\n",
        "        _, preds = torch.max(outputs, dim=1)\n",
        "\n",
        "    # Map the prediction to sentiment label (e.g., 1 for positive, 0 for negative)\n",
        "    if preds.item() == 1:\n",
        "      sentiment = \"positive\"\n",
        "    else:\n",
        "       sentiment = \"negative\"\n",
        "\n",
        "    # Print the input text and predicted sentiment\n",
        "    print(f\"Text: {text}, \\n Predicted sentiment: {sentiment}\\n\")\n"
      ]
    },
    {
      "cell_type": "code",
      "execution_count": null,
      "metadata": {
        "colab": {
          "base_uri": "https://localhost:8080/"
        },
        "id": "Se4l78vcD3Gz",
        "outputId": "f707ee91-bab3-4123-d0a5-98debf6ccd17"
      },
      "outputs": [
        {
          "output_type": "stream",
          "name": "stdout",
          "text": [
            "Text: Finally, an indie film that actually delivers some great scares! I see most horror films that come out... Theatrical, Straight-To-DVD, cable, etc... and most of them suck... a few are watchable... even fewer are actually good... Dark Remains is one of the good ones. I caught a screening of this film at the South Padre Island Film Festival... the audience loved it... and my wife and I loved it! Having no name actors, I assume the budget on this film was pretty low, but you wouldn't know it... the film looks fantastic... the acting totally works for the film... the story is good... and the scares are great! While most filmmakers focus solely on the scares, they often forget about story and character development, two things that help to deliver the scares more efficiently. Brian Avenet-Bradley must know that character and story are important. He develops both to the point where you care about the characters, you know the characters, and are therefore more scared when they are in danger.<br /><br />Watching horror films that cost anywhere from $80 million to $5000 to make, I find \"Dark Remains\" to be one of the gems out there. Check this film out!, \n",
            " Predicted sentiment: positive\n",
            "\n",
            "Text: In 1974, the teenager Martha Moxley (Maggie Grace) moves to the high-class area of Belle Haven, Greenwich, Connecticut. On the Mischief Night, eve of Halloween, she was murdered in the backyard of her house and her murder remained unsolved. Twenty-two years later, the writer Mark Fuhrman (Christopher Meloni), who is a former LA detective that has fallen in disgrace for perjury in O.J. Simpson trial and moved to Idaho, decides to investigate the case with his partner Stephen Weeks (Andrew Mitchell) with the purpose of writing a book. The locals squirm and do not welcome them, but with the support of the retired detective Steve Carroll (Robert Forster) that was in charge of the investigation in the 70's, they discover the criminal and a net of power and money to cover the murder.<br /><br />\"Murder in Greenwich\" is a good TV movie, with the true story of a murder of a fifteen years old girl that was committed by a wealthy teenager whose mother was a Kennedy. The powerful and rich family used their influence to cover the murder for more than twenty years. However, a snoopy detective and convicted perjurer in disgrace was able to disclose how the hideous crime was committed. The screenplay shows the investigation of Mark and the last days of Martha in parallel, but there is a lack of the emotion in the dramatization. My vote is seven.<br /><br />Title (Brazil): Not Available, \n",
            " Predicted sentiment: negative\n",
            "\n",
            "Text: Ronald Colman plays a prodigal son. While he is NOT a bad guy, he is a bit flighty and hasn't done a lot with his life other than travel the world and have a jolly good time. Now that his latest venture in Africa has failed, he's on his way home to England. His rich upper class father plans on tossing him out on his ear, though thanks to Ronald's winning style, he is reluctantly welcomed back with open arms.<br /><br />At this point, there are two women in his life--showgirl Myrna Loy and rich girl Loretta Young (who is already engaged). How will all this work out and will Ronald wise up and act like a responsible adult--these are the main themes of this pleasant little film.<br /><br />This isn't a great movie and certainly won't change your life, but it certainly is very entertaining and fun. Most of this is due to the always genial acting of Ronald Colman. Heck, in the heyday of his career in the 1930s, he could have played in REEFER MADNESS or some other dreck and still made it entertaining and likable due to his charming persona. His seemingly effortless style in this movie make it very easy to like him and it's easy to see why both Loretta Young and Myrna Loy are in love with him in the film! Plus, the writing is very witty and make this a nice romantic-comedy., \n",
            " Predicted sentiment: positive\n",
            "\n",
            "Text: There is really no way to compare this motion picture to any other movie because no one has ever made anything like it and no one ever will. And it really should be seen in a theater to be fully appreciated. At the very least it deserves to be seen with a great sound system.<br /><br />I saw this movie on the day it opened in 1968, my senior year in high school. I went because I like science-fiction and wanted to see a \"space\" movie. Remember this film was made before the first moon landing.<br /><br />There we sat, waiting for it to begin. But, SURPRISE! There was no cartoon, no coming attractions. The theater owner at the Cooper Theatre for some reason chose to play \"The Star-Spangled Banner\" with the lights still up so we all stood, never did that at a movie before or since and then sat down again as it ended. Then the theatre went completely DARK and the strange overture began with the blank screen barely visible.<br /><br />The overture ended and my seat began to VIBRATE as the blue screen with the MGM lion appeared, along with the first deep bass notes, and then my senses were overwhelmed, hearing \"Also Sprach Zarathustra\" for the first time in my life. The ride had just begun.<br /><br />(I highly recommend you watch this opening, this film, in a DARK room with your subwoofer turned up as high as possible to get the effect I felt in that theatre.) Of course, it took quite awhile before we got to outer space and the movie that followed was anything but a science-fiction movie. INTERMISSION came (a good thing, highly under-rated and unused these days) and we all looked at each other in wonder, caught our breath, and then the ride resumed, wilder than before.<br /><br />I saw it 7 more times within the next year, always in a real full size theater, like all theaters were before multiplexes. I might have been \"high\" once but I didn't go to see it again and again because I was \"tripping\". I went because I knew I was seeing a work of art. It was SO DAMN BEAUTIFUL; the sound that you could feel in your bones followed by terrifying silence; the sights unimagined and unimaginable; the affection for HAL turning to terror. And of, course, WTF was Kubrick really trying to get across to me? Years and years and many more viewings later, I understand it as well, I think, as I ever will. Read someone else's comments if you're looking for someone to explain it to you or search around the web, you'll find \"explanations\", that's not my purpose in writing these comments.<br /><br />What I hope to do is encourage you to watch it patiently, enjoy it's beauty the way you would enjoy watching a sunset while listening to the most beautiful music you know of (e.g, Gayne Ballet Suite or the Blue Danube); savor it like you would a wonderful meal, sip it like a fine wine; look and listen for the clues and the hidden symbols that ARE there. And then draw your own conclusions. Stanley Kubrick WANTED to SHARE some things with you that he found beautiful and he wanted you to think about where you. a human, came from and where you're headed.<br /><br />If that's too much work for your brain, and you can't see and hear and ponder the beauty and mystery of Kubrick's film, then, pardon my bluntness, but your life is about as meaningful as that of a tapir or a pre-monolith ape. If you want mindless escape, this isn't for you.<br /><br />But if you like sunsets, thunderstorms, harmonies in music, mysteries, and sensuality and can have an open mind this film will add something to your life., \n",
            " Predicted sentiment: positive\n",
            "\n",
            "Text: Boy, this movie is bad. And not in a good, cheesy, fun way, either. Even MST3K couldn't stop it from being boring, and it's also confusing as all get out. But the most annoying part of this dull mess is Ireland's hideous high pitched voice, which I was tired of listening to in the first five minutes. Not to mention how really unappealing her character is. Even her Dad ran away and abandoned her! I can see why, frankly. If he'd had to listen to her whine in her little mouse voice for more than a few minutes, he'd have been tempted to do her a great harm. As I was, by the end of the movie. Plus, she's useless and annoying. When she falls down the long hole in the earth a la Alice in Wonderland, she'd have been done for in the first ten minutes if that inexplicably Australian accented miner hadn't kept saving her from all of the various plights she kept falling into. He should have just tied her to the Atlantean version of train tracks and been done with it. And this Atlantis underground with the weird, confusing obsession with bone density,I have to ask-where was the light coming from down there? Did they have generators that imitate the sun? No matter. There's no real plot anyway, just a bunch of oddly costumed Goth wannabees running around trying to catch Kathy(probably so that they can stick a gag in her mouth). Stupid, pointless film. Thank you Golan Globus, for this cinematic abomination. May you burn in the seventh ring of Hell for all eternity., \n",
            " Predicted sentiment: negative\n",
            "\n"
          ]
        }
      ],
      "source": [
        "# Test sentiment analysis\n",
        "import random\n",
        "for i in range(5):\n",
        "    text = random.choice(test_texts)\n",
        "    predict_sentiment(text, load_model, tokenizer, device)"
      ]
    },
    {
      "cell_type": "code",
      "source": [
        "text =\"I am sure this is a masterpiece from the director\"\n",
        "predict_sentiment(text, load_model, tokenizer, device)"
      ],
      "metadata": {
        "colab": {
          "base_uri": "https://localhost:8080/"
        },
        "id": "QP2rNWpkg9Zq",
        "outputId": "80731bd5-84a1-4c9b-d2b1-256598d2b4fb"
      },
      "execution_count": null,
      "outputs": [
        {
          "output_type": "stream",
          "name": "stdout",
          "text": [
            "Text: I am sure this is a masterpiece from the director, \n",
            " Predicted sentiment: positive\n",
            "\n"
          ]
        }
      ]
    },
    {
      "cell_type": "markdown",
      "metadata": {
        "id": "pmjUSB2TYGU0"
      },
      "source": [
        "# References\n",
        "\n",
        "\n",
        "- Image courtsey: Google\n",
        "- Khang Pham, Text Classification with BERT [link](https://medium.com/@khang.pham.exxact/text-classification-with-bert-7afaacc5e49b)\n",
        "- Devlin et al, BERT: Pre-training of Deep Bidirectional Transformers for\n",
        "Language Understanding, ACL'19  [link](https://aclanthology.org/N19-1423.pdf)\n",
        "- scikit-learn: https://scikit-learn.org/stable/\n",
        "- PyTorch: https://pytorch.org/\n"
      ]
    }
  ],
  "metadata": {
    "colab": {
      "provenance": []
    },
    "kernelspec": {
      "display_name": "Python 3 (ipykernel)",
      "language": "python",
      "name": "python3"
    },
    "language_info": {
      "codemirror_mode": {
        "name": "ipython",
        "version": 3
      },
      "file_extension": ".py",
      "mimetype": "text/x-python",
      "name": "python",
      "nbconvert_exporter": "python",
      "pygments_lexer": "ipython3",
      "version": "3.10.12"
    }
  },
  "nbformat": 4,
  "nbformat_minor": 0
}