{
  "nbformat": 4,
  "nbformat_minor": 0,
  "metadata": {
    "colab": {
      "provenance": []
    },
    "kernelspec": {
      "name": "python3",
      "display_name": "Python 3"
    },
    "language_info": {
      "name": "python"
    }
  },
  "cells": [
    {
      "cell_type": "code",
      "execution_count": null,
      "metadata": {
        "id": "mvusEhiwUwE8"
      },
      "outputs": [],
      "source": [
        "import torch\n",
        "import torch.nn as nn\n",
        "import torch.optim as opt\n",
        "torch.set_printoptions(linewidth=120)\n",
        "import torch.nn.functional as F\n",
        "import torchvision\n",
        "import torchvision.transforms as transforms\n",
        "from torch.utils.tensorboard import SummaryWriter\n",
        "from itertools import product"
      ]
    },
    {
      "cell_type": "code",
      "source": [
        "#Helper functions\n",
        "def get_num_correct(preds, labels):\n",
        "  return preds.argmax(dim=1).eq(labels).sum().item()\n",
        "\n",
        "#Cnn Model\n",
        "class CNN(nn.Module):\n",
        "  def __init__(self):\n",
        "    super().__init__()\n",
        "    self.conv1 = nn.Conv2d(in_channels=1, out_channels=6, kernel_size=5)\n",
        "    self.conv2 = nn.Conv2d(in_channels=6, out_channels=12, kernel_size=5)\n",
        "\n",
        "\n",
        "    self.fc1=nn.Linear(in_features=12*4*4, out_features=120)\n",
        "    self.fc2=nn.Linear(in_features=120, out_features=60)\n",
        "    self.out=nn.Linear(in_features=60, out_features=10)\n",
        "\n",
        "\n",
        "  def forward(self,x):\n",
        "    x=F.relu(self.conv1(x))\n",
        "    x=F.max_pool2d(x, kernel_size=2, stride=2)\n",
        "    x=F.relu(self.conv2(x))\n",
        "    x=F.max_pool2d(x, kernel_size=2, stride=2)\n",
        "    x = torch.flatten(x, start_dim=1)\n",
        "    x=F.relu(self.fc1(x))\n",
        "    x=F.relu(self.fc2(x))\n",
        "    x=self.out(x)\n",
        "\n",
        "    return x\n",
        "\n",
        "# import data\n",
        "train_set = torchvision.datasets.FashionMNIST(root=\"./data\", train=True, download=True,\n",
        "                                              transform=transforms.ToTensor())\n",
        "\n",
        "device = ('cuda' if torch.cuda.is_available() else 'cpu')\n",
        "\n",
        "\n",
        "#Hyperparameters\n",
        "parameters=dict(\n",
        "    lr=[0.01,0.001],\n",
        "    batch_size=[32,64,128],\n",
        "    shuffle=[True, False]\n",
        ")\n",
        "param_values=[v for v in parameters.values()]"
      ],
      "metadata": {
        "colab": {
          "base_uri": "https://localhost:8080/"
        },
        "id": "GvFLIicAXAyD",
        "outputId": "af93e9cb-e138-42f9-8a50-b19f629a72f0"
      },
      "execution_count": null,
      "outputs": [
        {
          "output_type": "stream",
          "name": "stdout",
          "text": [
            "Downloading http://fashion-mnist.s3-website.eu-central-1.amazonaws.com/train-images-idx3-ubyte.gz\n",
            "Downloading http://fashion-mnist.s3-website.eu-central-1.amazonaws.com/train-images-idx3-ubyte.gz to ./data/FashionMNIST/raw/train-images-idx3-ubyte.gz\n"
          ]
        },
        {
          "output_type": "stream",
          "name": "stderr",
          "text": [
            "100%|██████████| 26421880/26421880 [00:01<00:00, 17026449.50it/s]\n"
          ]
        },
        {
          "output_type": "stream",
          "name": "stdout",
          "text": [
            "Extracting ./data/FashionMNIST/raw/train-images-idx3-ubyte.gz to ./data/FashionMNIST/raw\n",
            "\n",
            "Downloading http://fashion-mnist.s3-website.eu-central-1.amazonaws.com/train-labels-idx1-ubyte.gz\n",
            "Downloading http://fashion-mnist.s3-website.eu-central-1.amazonaws.com/train-labels-idx1-ubyte.gz to ./data/FashionMNIST/raw/train-labels-idx1-ubyte.gz\n"
          ]
        },
        {
          "output_type": "stream",
          "name": "stderr",
          "text": [
            "100%|██████████| 29515/29515 [00:00<00:00, 272209.48it/s]\n"
          ]
        },
        {
          "output_type": "stream",
          "name": "stdout",
          "text": [
            "Extracting ./data/FashionMNIST/raw/train-labels-idx1-ubyte.gz to ./data/FashionMNIST/raw\n",
            "\n",
            "Downloading http://fashion-mnist.s3-website.eu-central-1.amazonaws.com/t10k-images-idx3-ubyte.gz\n",
            "Downloading http://fashion-mnist.s3-website.eu-central-1.amazonaws.com/t10k-images-idx3-ubyte.gz to ./data/FashionMNIST/raw/t10k-images-idx3-ubyte.gz\n"
          ]
        },
        {
          "output_type": "stream",
          "name": "stderr",
          "text": [
            "100%|██████████| 4422102/4422102 [00:00<00:00, 5044965.78it/s]\n"
          ]
        },
        {
          "output_type": "stream",
          "name": "stdout",
          "text": [
            "Extracting ./data/FashionMNIST/raw/t10k-images-idx3-ubyte.gz to ./data/FashionMNIST/raw\n",
            "\n",
            "Downloading http://fashion-mnist.s3-website.eu-central-1.amazonaws.com/t10k-labels-idx1-ubyte.gz\n",
            "Downloading http://fashion-mnist.s3-website.eu-central-1.amazonaws.com/t10k-labels-idx1-ubyte.gz to ./data/FashionMNIST/raw/t10k-labels-idx1-ubyte.gz\n"
          ]
        },
        {
          "output_type": "stream",
          "name": "stderr",
          "text": [
            "100%|██████████| 5148/5148 [00:00<00:00, 22123234.62it/s]"
          ]
        },
        {
          "output_type": "stream",
          "name": "stdout",
          "text": [
            "Extracting ./data/FashionMNIST/raw/t10k-labels-idx1-ubyte.gz to ./data/FashionMNIST/raw\n",
            "\n"
          ]
        },
        {
          "output_type": "stream",
          "name": "stderr",
          "text": [
            "\n"
          ]
        }
      ]
    },
    {
      "cell_type": "code",
      "source": [
        "\n",
        "#Training loop\n",
        "model_t=CNN()\n",
        "for run_id, (lr, batch_size, shuffle) in enumerate(product(*param_values)):\n",
        "  print(\"run_id:\", run_id +1)\n",
        "  model=CNN().to(device)\n",
        "  train_loader = torch.utils.data.DataLoader(train_set, batch_size=batch_size, shuffle=shuffle)\n",
        "  optimizer=opt.Adam(model.parameters(),lr=lr)\n",
        "  criterion=torch.nn.CrossEntropyLoss()\n",
        "  comment=f'batch_size={batch_size} lr={lr} shuffle={shuffle}'\n",
        "  tb=SummaryWriter(comment=comment)\n",
        "  images,labels=next(iter(train_loader))\n",
        "  grid=torchvision.utils.make_grid(images)\n",
        "  tb.add_image(\"images\", grid)\n",
        "  tb.add_graph(model_t, images)\n",
        "  for epoch in range(5):\n",
        "    total_loss=0\n",
        "    total_correct=0\n",
        "    for images, labels in train_loader:\n",
        "      images, labels=images.to(device),labels.to(device)\n",
        "      preds=model(images)\n",
        "\n",
        "      loss=criterion(preds, labels)\n",
        "      total_loss +=loss.item()\n",
        "      total_correct+=get_num_correct(preds, labels)\n",
        "\n",
        "      optimizer.zero_grad()\n",
        "      loss.backward()\n",
        "      optimizer.step()\n",
        "      #Add scalar¶ ... Scalar value is the most simple data\n",
        "      #type to deal with. Mostly we save the loss value of each training step, or the accuracy after each epoch.\n",
        "    tb.add_scalar(\"loss\", total_loss, epoch)\n",
        "    tb.add_scalar(\"Correct\", total_correct, epoch)\n",
        "    tb.add_scalar(\"Accuracy\", total_correct/len(train_set), epoch)\n",
        "\n",
        "    print(\"batch_size:\", batch_size, \"lr:\", lr,\"shuffle:\",shuffle)\n",
        "    print(\"epoch:\",epoch, \"total_corrct:\",total_correct,\"loss:\",total_loss)\n",
        "  print(\"__________________________________\")\n",
        "  tb.add_hparams(\n",
        "    {\"lr\": lr, \"bsize\": batch_size, \"shuffle\": shuffle},\n",
        "    {\"accuracy\": total_correct/len(train_set), \"loss\": total_loss}\n",
        ")\n",
        "\n",
        "tb.close()"
      ],
      "metadata": {
        "id": "EAw41av8ZeQK",
        "colab": {
          "base_uri": "https://localhost:8080/"
        },
        "outputId": "325b9bb7-999c-4be8-a7d9-c12a62f3a947"
      },
      "execution_count": null,
      "outputs": [
        {
          "output_type": "stream",
          "name": "stdout",
          "text": [
            "run_id: 1\n",
            "batch_size: 32 lr: 0.01 shuffle: True\n",
            "epoch: 0 total_corrct: 48210 loss: 1004.3987563923001\n",
            "batch_size: 32 lr: 0.01 shuffle: True\n",
            "epoch: 1 total_corrct: 50665 loss: 796.4051642715931\n",
            "batch_size: 32 lr: 0.01 shuffle: True\n",
            "epoch: 2 total_corrct: 51323 loss: 745.2328318655491\n",
            "batch_size: 32 lr: 0.01 shuffle: True\n",
            "epoch: 3 total_corrct: 51555 loss: 733.9798557087779\n",
            "batch_size: 32 lr: 0.01 shuffle: True\n",
            "epoch: 4 total_corrct: 51749 loss: 709.1487831287086\n",
            "__________________________________\n",
            "run_id: 2\n",
            "batch_size: 32 lr: 0.01 shuffle: False\n",
            "epoch: 0 total_corrct: 47344 loss: 1056.188487701118\n",
            "batch_size: 32 lr: 0.01 shuffle: False\n",
            "epoch: 1 total_corrct: 50465 loss: 822.1729287058115\n",
            "batch_size: 32 lr: 0.01 shuffle: False\n",
            "epoch: 2 total_corrct: 50970 loss: 777.3572818636894\n",
            "batch_size: 32 lr: 0.01 shuffle: False\n",
            "epoch: 3 total_corrct: 51122 loss: 766.6848340928555\n",
            "batch_size: 32 lr: 0.01 shuffle: False\n",
            "epoch: 4 total_corrct: 51290 loss: 741.4896515160799\n",
            "__________________________________\n",
            "run_id: 3\n",
            "batch_size: 64 lr: 0.01 shuffle: True\n",
            "epoch: 0 total_corrct: 47847 loss: 509.10978420078754\n",
            "batch_size: 64 lr: 0.01 shuffle: True\n",
            "epoch: 1 total_corrct: 51477 loss: 366.864157512784\n",
            "batch_size: 64 lr: 0.01 shuffle: True\n",
            "epoch: 2 total_corrct: 51820 loss: 348.84585953503847\n",
            "batch_size: 64 lr: 0.01 shuffle: True\n",
            "epoch: 3 total_corrct: 52280 loss: 331.21212209016085\n",
            "batch_size: 64 lr: 0.01 shuffle: True\n",
            "epoch: 4 total_corrct: 52373 loss: 327.9924501031637\n",
            "__________________________________\n",
            "run_id: 4\n",
            "batch_size: 64 lr: 0.01 shuffle: False\n",
            "epoch: 0 total_corrct: 47722 loss: 505.5511565208435\n",
            "batch_size: 64 lr: 0.01 shuffle: False\n",
            "epoch: 1 total_corrct: 51256 loss: 367.6165578365326\n",
            "batch_size: 64 lr: 0.01 shuffle: False\n",
            "epoch: 2 total_corrct: 51744 loss: 342.47546181082726\n",
            "batch_size: 64 lr: 0.01 shuffle: False\n",
            "epoch: 3 total_corrct: 52168 loss: 325.97391233593225\n",
            "batch_size: 64 lr: 0.01 shuffle: False\n",
            "epoch: 4 total_corrct: 52368 loss: 322.42199198156595\n",
            "__________________________________\n",
            "run_id: 5\n",
            "batch_size: 128 lr: 0.01 shuffle: True\n",
            "epoch: 0 total_corrct: 45279 loss: 297.7047844976187\n",
            "batch_size: 128 lr: 0.01 shuffle: True\n",
            "epoch: 1 total_corrct: 50935 loss: 189.40544737875462\n",
            "batch_size: 128 lr: 0.01 shuffle: True\n",
            "epoch: 2 total_corrct: 51939 loss: 168.2975376546383\n",
            "batch_size: 128 lr: 0.01 shuffle: True\n",
            "epoch: 3 total_corrct: 52414 loss: 159.6983621418476\n",
            "batch_size: 128 lr: 0.01 shuffle: True\n",
            "epoch: 4 total_corrct: 52796 loss: 150.7825354486704\n",
            "__________________________________\n",
            "run_id: 6\n",
            "batch_size: 128 lr: 0.01 shuffle: False\n",
            "epoch: 0 total_corrct: 46551 loss: 276.74779196083546\n",
            "batch_size: 128 lr: 0.01 shuffle: False\n",
            "epoch: 1 total_corrct: 51333 loss: 182.66028726100922\n",
            "batch_size: 128 lr: 0.01 shuffle: False\n",
            "epoch: 2 total_corrct: 52141 loss: 165.806703209877\n",
            "batch_size: 128 lr: 0.01 shuffle: False\n",
            "epoch: 3 total_corrct: 52465 loss: 159.23051790893078\n",
            "batch_size: 128 lr: 0.01 shuffle: False\n",
            "epoch: 4 total_corrct: 52898 loss: 151.2414540797472\n",
            "__________________________________\n",
            "run_id: 7\n",
            "batch_size: 32 lr: 0.001 shuffle: True\n",
            "epoch: 0 total_corrct: 45297 loss: 1209.9551678597927\n",
            "batch_size: 32 lr: 0.001 shuffle: True\n",
            "epoch: 1 total_corrct: 50720 loss: 791.3592494949698\n",
            "batch_size: 32 lr: 0.001 shuffle: True\n",
            "epoch: 2 total_corrct: 52077 loss: 673.2177254669368\n",
            "batch_size: 32 lr: 0.001 shuffle: True\n",
            "epoch: 3 total_corrct: 52741 loss: 615.773593917489\n",
            "batch_size: 32 lr: 0.001 shuffle: True\n",
            "epoch: 4 total_corrct: 53141 loss: 575.5807208567858\n",
            "__________________________________\n",
            "run_id: 8\n",
            "batch_size: 32 lr: 0.001 shuffle: False\n",
            "epoch: 0 total_corrct: 44300 loss: 1289.0780096799135\n",
            "batch_size: 32 lr: 0.001 shuffle: False\n",
            "epoch: 1 total_corrct: 50055 loss: 849.8125053793192\n",
            "batch_size: 32 lr: 0.001 shuffle: False\n",
            "epoch: 2 total_corrct: 51425 loss: 726.1587386205792\n",
            "batch_size: 32 lr: 0.001 shuffle: False\n",
            "epoch: 3 total_corrct: 52297 loss: 652.792593549937\n",
            "batch_size: 32 lr: 0.001 shuffle: False\n",
            "epoch: 4 total_corrct: 52836 loss: 602.7193024232984\n",
            "__________________________________\n",
            "run_id: 9\n",
            "batch_size: 64 lr: 0.001 shuffle: True\n",
            "epoch: 0 total_corrct: 42916 loss: 711.3860644102097\n",
            "batch_size: 64 lr: 0.001 shuffle: True\n",
            "epoch: 1 total_corrct: 48617 loss: 471.56826719641685\n",
            "batch_size: 64 lr: 0.001 shuffle: True\n",
            "epoch: 2 total_corrct: 50636 loss: 397.6998403817415\n",
            "batch_size: 64 lr: 0.001 shuffle: True\n",
            "epoch: 3 total_corrct: 51725 loss: 352.4584234058857\n",
            "batch_size: 64 lr: 0.001 shuffle: True\n",
            "epoch: 4 total_corrct: 52290 loss: 327.7053770199418\n",
            "__________________________________\n",
            "run_id: 10\n",
            "batch_size: 64 lr: 0.001 shuffle: False\n",
            "epoch: 0 total_corrct: 43702 loss: 672.0351096838713\n",
            "batch_size: 64 lr: 0.001 shuffle: False\n",
            "epoch: 1 total_corrct: 50011 loss: 431.05844339728355\n",
            "batch_size: 64 lr: 0.001 shuffle: False\n",
            "epoch: 2 total_corrct: 51543 loss: 365.4547183215618\n",
            "batch_size: 64 lr: 0.001 shuffle: False\n",
            "epoch: 3 total_corrct: 52217 loss: 332.8531514182687\n",
            "batch_size: 64 lr: 0.001 shuffle: False\n",
            "epoch: 4 total_corrct: 52720 loss: 310.25564381480217\n",
            "__________________________________\n",
            "run_id: 11\n",
            "batch_size: 128 lr: 0.001 shuffle: True\n",
            "epoch: 0 total_corrct: 41548 loss: 391.77237090468407\n",
            "batch_size: 128 lr: 0.001 shuffle: True\n",
            "epoch: 1 total_corrct: 47977 loss: 254.4207558631897\n",
            "batch_size: 128 lr: 0.001 shuffle: True\n",
            "epoch: 2 total_corrct: 49875 loss: 219.24348163604736\n",
            "batch_size: 128 lr: 0.001 shuffle: True\n",
            "epoch: 3 total_corrct: 50930 loss: 196.38159263134003\n",
            "batch_size: 128 lr: 0.001 shuffle: True\n",
            "epoch: 4 total_corrct: 51694 loss: 178.85228972136974\n",
            "__________________________________\n",
            "run_id: 12\n",
            "batch_size: 128 lr: 0.001 shuffle: False\n",
            "epoch: 0 total_corrct: 41602 loss: 379.4059668183327\n",
            "batch_size: 128 lr: 0.001 shuffle: False\n",
            "epoch: 1 total_corrct: 48172 loss: 245.35731267929077\n",
            "batch_size: 128 lr: 0.001 shuffle: False\n",
            "epoch: 2 total_corrct: 49925 loss: 213.4459634423256\n",
            "batch_size: 128 lr: 0.001 shuffle: False\n",
            "epoch: 3 total_corrct: 51069 loss: 191.33429449796677\n",
            "batch_size: 128 lr: 0.001 shuffle: False\n",
            "epoch: 4 total_corrct: 51802 loss: 175.7440645992756\n",
            "__________________________________\n"
          ]
        }
      ]
    },
    {
      "cell_type": "code",
      "source": [
        "  %load_ext tensorboard\n",
        "  %tensorboard --logdir=runs"
      ],
      "metadata": {
        "colab": {
          "base_uri": "https://localhost:8080/",
          "height": 17
        },
        "id": "NeRjyn28Gg9I",
        "outputId": "fddc93f3-847d-455a-86ce-520feb6e3bcd"
      },
      "execution_count": null,
      "outputs": [
        {
          "output_type": "display_data",
          "data": {
            "text/plain": [
              "<IPython.core.display.Javascript object>"
            ],
            "application/javascript": [
              "\n",
              "        (async () => {\n",
              "            const url = new URL(await google.colab.kernel.proxyPort(6006, {'cache': true}));\n",
              "            url.searchParams.set('tensorboardColab', 'true');\n",
              "            const iframe = document.createElement('iframe');\n",
              "            iframe.src = url;\n",
              "            iframe.setAttribute('width', '100%');\n",
              "            iframe.setAttribute('height', '800');\n",
              "            iframe.setAttribute('frameborder', 0);\n",
              "            document.body.appendChild(iframe);\n",
              "        })();\n",
              "    "
            ]
          },
          "metadata": {}
        }
      ]
    },
    {
      "cell_type": "code",
      "source": [],
      "metadata": {
        "id": "NNCSxDOIARJf"
      },
      "execution_count": null,
      "outputs": []
    }
  ]
}